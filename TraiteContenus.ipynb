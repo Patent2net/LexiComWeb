{
  "nbformat": 4,
  "nbformat_minor": 0,
  "metadata": {
    "colab": {
      "name": "TraiteContenus.ipynb",
      "provenance": [],
      "collapsed_sections": [
        "-yB10ul8rXDf"
      ]
    },
    "kernelspec": {
      "display_name": "Python 3",
      "name": "python3"
    },
    "language_info": {
      "name": "python"
    },
    "accelerator": "GPU"
  },
  "cells": [
    {
      "cell_type": "markdown",
      "source": [
        "# Installation de librairies\n",
        "> Il est conseillé de paramétrer le notebook pour utiliser le GPU (menu modifer / Paramètres du notebook)."
      ],
      "metadata": {
        "id": "S4D8r8o_NOYo"
      }
    },
    {
      "cell_type": "code",
      "metadata": {
        "id": "ZRg9_JkuW_UM",
        "colab": {
          "base_uri": "https://localhost:8080/"
        },
        "outputId": "d78c559f-12ff-463d-e5e7-0fb1c0f55eea"
      },
      "source": [
        "!pip install -U spacy\n",
        "!python -m spacy download fr_core_news_sm"
      ],
      "execution_count": null,
      "outputs": [
        {
          "output_type": "stream",
          "name": "stdout",
          "text": [
            "Requirement already satisfied: spacy in /usr/local/lib/python3.7/dist-packages (2.2.4)\n",
            "Collecting spacy\n",
            "  Downloading spacy-3.2.1-cp37-cp37m-manylinux_2_17_x86_64.manylinux2014_x86_64.whl (6.0 MB)\n",
            "\u001b[K     |████████████████████████████████| 6.0 MB 4.3 MB/s \n",
            "\u001b[?25hRequirement already satisfied: typing-extensions<4.0.0.0,>=3.7.4 in /usr/local/lib/python3.7/dist-packages (from spacy) (3.10.0.2)\n",
            "Collecting pydantic!=1.8,!=1.8.1,<1.9.0,>=1.7.4\n",
            "  Downloading pydantic-1.8.2-cp37-cp37m-manylinux2014_x86_64.whl (10.1 MB)\n",
            "\u001b[K     |████████████████████████████████| 10.1 MB 54.0 MB/s \n",
            "\u001b[?25hRequirement already satisfied: requests<3.0.0,>=2.13.0 in /usr/local/lib/python3.7/dist-packages (from spacy) (2.23.0)\n",
            "Collecting spacy-loggers<2.0.0,>=1.0.0\n",
            "  Downloading spacy_loggers-1.0.1-py3-none-any.whl (7.0 kB)\n",
            "Collecting srsly<3.0.0,>=2.4.1\n",
            "  Downloading srsly-2.4.2-cp37-cp37m-manylinux_2_17_x86_64.manylinux2014_x86_64.whl (451 kB)\n",
            "\u001b[K     |████████████████████████████████| 451 kB 14.6 MB/s \n",
            "\u001b[?25hRequirement already satisfied: preshed<3.1.0,>=3.0.2 in /usr/local/lib/python3.7/dist-packages (from spacy) (3.0.6)\n",
            "Requirement already satisfied: wasabi<1.1.0,>=0.8.1 in /usr/local/lib/python3.7/dist-packages (from spacy) (0.9.0)\n",
            "Collecting thinc<8.1.0,>=8.0.12\n",
            "  Downloading thinc-8.0.13-cp37-cp37m-manylinux_2_17_x86_64.manylinux2014_x86_64.whl (628 kB)\n",
            "\u001b[K     |████████████████████████████████| 628 kB 63.5 MB/s \n",
            "\u001b[?25hCollecting langcodes<4.0.0,>=3.2.0\n",
            "  Downloading langcodes-3.3.0-py3-none-any.whl (181 kB)\n",
            "\u001b[K     |████████████████████████████████| 181 kB 52.9 MB/s \n",
            "\u001b[?25hRequirement already satisfied: setuptools in /usr/local/lib/python3.7/dist-packages (from spacy) (57.4.0)\n",
            "Requirement already satisfied: tqdm<5.0.0,>=4.38.0 in /usr/local/lib/python3.7/dist-packages (from spacy) (4.62.3)\n",
            "Collecting pathy>=0.3.5\n",
            "  Downloading pathy-0.6.1-py3-none-any.whl (42 kB)\n",
            "\u001b[K     |████████████████████████████████| 42 kB 1.8 MB/s \n",
            "\u001b[?25hRequirement already satisfied: blis<0.8.0,>=0.4.0 in /usr/local/lib/python3.7/dist-packages (from spacy) (0.4.1)\n",
            "Requirement already satisfied: jinja2 in /usr/local/lib/python3.7/dist-packages (from spacy) (2.11.3)\n",
            "Collecting typer<0.5.0,>=0.3.0\n",
            "  Downloading typer-0.4.0-py3-none-any.whl (27 kB)\n",
            "Collecting spacy-legacy<3.1.0,>=3.0.8\n",
            "  Downloading spacy_legacy-3.0.8-py2.py3-none-any.whl (14 kB)\n",
            "Requirement already satisfied: numpy>=1.15.0 in /usr/local/lib/python3.7/dist-packages (from spacy) (1.19.5)\n",
            "Requirement already satisfied: packaging>=20.0 in /usr/local/lib/python3.7/dist-packages (from spacy) (21.3)\n",
            "Requirement already satisfied: cymem<2.1.0,>=2.0.2 in /usr/local/lib/python3.7/dist-packages (from spacy) (2.0.6)\n",
            "Requirement already satisfied: murmurhash<1.1.0,>=0.28.0 in /usr/local/lib/python3.7/dist-packages (from spacy) (1.0.6)\n",
            "Collecting catalogue<2.1.0,>=2.0.6\n",
            "  Downloading catalogue-2.0.6-py3-none-any.whl (17 kB)\n",
            "Requirement already satisfied: zipp>=0.5 in /usr/local/lib/python3.7/dist-packages (from catalogue<2.1.0,>=2.0.6->spacy) (3.7.0)\n",
            "Requirement already satisfied: pyparsing!=3.0.5,>=2.0.2 in /usr/local/lib/python3.7/dist-packages (from packaging>=20.0->spacy) (3.0.7)\n",
            "Requirement already satisfied: smart-open<6.0.0,>=5.0.0 in /usr/local/lib/python3.7/dist-packages (from pathy>=0.3.5->spacy) (5.2.1)\n",
            "Requirement already satisfied: certifi>=2017.4.17 in /usr/local/lib/python3.7/dist-packages (from requests<3.0.0,>=2.13.0->spacy) (2021.10.8)\n",
            "Requirement already satisfied: urllib3!=1.25.0,!=1.25.1,<1.26,>=1.21.1 in /usr/local/lib/python3.7/dist-packages (from requests<3.0.0,>=2.13.0->spacy) (1.24.3)\n",
            "Requirement already satisfied: chardet<4,>=3.0.2 in /usr/local/lib/python3.7/dist-packages (from requests<3.0.0,>=2.13.0->spacy) (3.0.4)\n",
            "Requirement already satisfied: idna<3,>=2.5 in /usr/local/lib/python3.7/dist-packages (from requests<3.0.0,>=2.13.0->spacy) (2.10)\n",
            "Requirement already satisfied: click<9.0.0,>=7.1.1 in /usr/local/lib/python3.7/dist-packages (from typer<0.5.0,>=0.3.0->spacy) (7.1.2)\n",
            "Requirement already satisfied: MarkupSafe>=0.23 in /usr/local/lib/python3.7/dist-packages (from jinja2->spacy) (2.0.1)\n",
            "Installing collected packages: catalogue, typer, srsly, pydantic, thinc, spacy-loggers, spacy-legacy, pathy, langcodes, spacy\n",
            "  Attempting uninstall: catalogue\n",
            "    Found existing installation: catalogue 1.0.0\n",
            "    Uninstalling catalogue-1.0.0:\n",
            "      Successfully uninstalled catalogue-1.0.0\n",
            "  Attempting uninstall: srsly\n",
            "    Found existing installation: srsly 1.0.5\n",
            "    Uninstalling srsly-1.0.5:\n",
            "      Successfully uninstalled srsly-1.0.5\n",
            "  Attempting uninstall: thinc\n",
            "    Found existing installation: thinc 7.4.0\n",
            "    Uninstalling thinc-7.4.0:\n",
            "      Successfully uninstalled thinc-7.4.0\n",
            "  Attempting uninstall: spacy\n",
            "    Found existing installation: spacy 2.2.4\n",
            "    Uninstalling spacy-2.2.4:\n",
            "      Successfully uninstalled spacy-2.2.4\n",
            "Successfully installed catalogue-2.0.6 langcodes-3.3.0 pathy-0.6.1 pydantic-1.8.2 spacy-3.2.1 spacy-legacy-3.0.8 spacy-loggers-1.0.1 srsly-2.4.2 thinc-8.0.13 typer-0.4.0\n",
            "Collecting fr-core-news-sm==3.2.0\n",
            "  Downloading https://github.com/explosion/spacy-models/releases/download/fr_core_news_sm-3.2.0/fr_core_news_sm-3.2.0-py3-none-any.whl (17.4 MB)\n",
            "\u001b[K     |████████████████████████████████| 17.4 MB 5.0 MB/s \n",
            "\u001b[?25hRequirement already satisfied: spacy<3.3.0,>=3.2.0 in /usr/local/lib/python3.7/dist-packages (from fr-core-news-sm==3.2.0) (3.2.1)\n",
            "Requirement already satisfied: preshed<3.1.0,>=3.0.2 in /usr/local/lib/python3.7/dist-packages (from spacy<3.3.0,>=3.2.0->fr-core-news-sm==3.2.0) (3.0.6)\n",
            "Requirement already satisfied: murmurhash<1.1.0,>=0.28.0 in /usr/local/lib/python3.7/dist-packages (from spacy<3.3.0,>=3.2.0->fr-core-news-sm==3.2.0) (1.0.6)\n",
            "Requirement already satisfied: spacy-loggers<2.0.0,>=1.0.0 in /usr/local/lib/python3.7/dist-packages (from spacy<3.3.0,>=3.2.0->fr-core-news-sm==3.2.0) (1.0.1)\n",
            "Requirement already satisfied: langcodes<4.0.0,>=3.2.0 in /usr/local/lib/python3.7/dist-packages (from spacy<3.3.0,>=3.2.0->fr-core-news-sm==3.2.0) (3.3.0)\n",
            "Requirement already satisfied: cymem<2.1.0,>=2.0.2 in /usr/local/lib/python3.7/dist-packages (from spacy<3.3.0,>=3.2.0->fr-core-news-sm==3.2.0) (2.0.6)\n",
            "Requirement already satisfied: catalogue<2.1.0,>=2.0.6 in /usr/local/lib/python3.7/dist-packages (from spacy<3.3.0,>=3.2.0->fr-core-news-sm==3.2.0) (2.0.6)\n",
            "Requirement already satisfied: setuptools in /usr/local/lib/python3.7/dist-packages (from spacy<3.3.0,>=3.2.0->fr-core-news-sm==3.2.0) (57.4.0)\n",
            "Requirement already satisfied: wasabi<1.1.0,>=0.8.1 in /usr/local/lib/python3.7/dist-packages (from spacy<3.3.0,>=3.2.0->fr-core-news-sm==3.2.0) (0.9.0)\n",
            "Requirement already satisfied: srsly<3.0.0,>=2.4.1 in /usr/local/lib/python3.7/dist-packages (from spacy<3.3.0,>=3.2.0->fr-core-news-sm==3.2.0) (2.4.2)\n",
            "Requirement already satisfied: spacy-legacy<3.1.0,>=3.0.8 in /usr/local/lib/python3.7/dist-packages (from spacy<3.3.0,>=3.2.0->fr-core-news-sm==3.2.0) (3.0.8)\n",
            "Requirement already satisfied: pydantic!=1.8,!=1.8.1,<1.9.0,>=1.7.4 in /usr/local/lib/python3.7/dist-packages (from spacy<3.3.0,>=3.2.0->fr-core-news-sm==3.2.0) (1.8.2)\n",
            "Requirement already satisfied: jinja2 in /usr/local/lib/python3.7/dist-packages (from spacy<3.3.0,>=3.2.0->fr-core-news-sm==3.2.0) (2.11.3)\n",
            "Requirement already satisfied: pathy>=0.3.5 in /usr/local/lib/python3.7/dist-packages (from spacy<3.3.0,>=3.2.0->fr-core-news-sm==3.2.0) (0.6.1)\n",
            "Requirement already satisfied: numpy>=1.15.0 in /usr/local/lib/python3.7/dist-packages (from spacy<3.3.0,>=3.2.0->fr-core-news-sm==3.2.0) (1.19.5)\n",
            "Requirement already satisfied: packaging>=20.0 in /usr/local/lib/python3.7/dist-packages (from spacy<3.3.0,>=3.2.0->fr-core-news-sm==3.2.0) (21.3)\n",
            "Requirement already satisfied: typing-extensions<4.0.0.0,>=3.7.4 in /usr/local/lib/python3.7/dist-packages (from spacy<3.3.0,>=3.2.0->fr-core-news-sm==3.2.0) (3.10.0.2)\n",
            "Requirement already satisfied: tqdm<5.0.0,>=4.38.0 in /usr/local/lib/python3.7/dist-packages (from spacy<3.3.0,>=3.2.0->fr-core-news-sm==3.2.0) (4.62.3)\n",
            "Requirement already satisfied: requests<3.0.0,>=2.13.0 in /usr/local/lib/python3.7/dist-packages (from spacy<3.3.0,>=3.2.0->fr-core-news-sm==3.2.0) (2.23.0)\n",
            "Requirement already satisfied: thinc<8.1.0,>=8.0.12 in /usr/local/lib/python3.7/dist-packages (from spacy<3.3.0,>=3.2.0->fr-core-news-sm==3.2.0) (8.0.13)\n",
            "Requirement already satisfied: blis<0.8.0,>=0.4.0 in /usr/local/lib/python3.7/dist-packages (from spacy<3.3.0,>=3.2.0->fr-core-news-sm==3.2.0) (0.4.1)\n",
            "Requirement already satisfied: typer<0.5.0,>=0.3.0 in /usr/local/lib/python3.7/dist-packages (from spacy<3.3.0,>=3.2.0->fr-core-news-sm==3.2.0) (0.4.0)\n",
            "Requirement already satisfied: zipp>=0.5 in /usr/local/lib/python3.7/dist-packages (from catalogue<2.1.0,>=2.0.6->spacy<3.3.0,>=3.2.0->fr-core-news-sm==3.2.0) (3.7.0)\n",
            "Requirement already satisfied: pyparsing!=3.0.5,>=2.0.2 in /usr/local/lib/python3.7/dist-packages (from packaging>=20.0->spacy<3.3.0,>=3.2.0->fr-core-news-sm==3.2.0) (3.0.7)\n",
            "Requirement already satisfied: smart-open<6.0.0,>=5.0.0 in /usr/local/lib/python3.7/dist-packages (from pathy>=0.3.5->spacy<3.3.0,>=3.2.0->fr-core-news-sm==3.2.0) (5.2.1)\n",
            "Requirement already satisfied: certifi>=2017.4.17 in /usr/local/lib/python3.7/dist-packages (from requests<3.0.0,>=2.13.0->spacy<3.3.0,>=3.2.0->fr-core-news-sm==3.2.0) (2021.10.8)\n",
            "Requirement already satisfied: urllib3!=1.25.0,!=1.25.1,<1.26,>=1.21.1 in /usr/local/lib/python3.7/dist-packages (from requests<3.0.0,>=2.13.0->spacy<3.3.0,>=3.2.0->fr-core-news-sm==3.2.0) (1.24.3)\n",
            "Requirement already satisfied: chardet<4,>=3.0.2 in /usr/local/lib/python3.7/dist-packages (from requests<3.0.0,>=2.13.0->spacy<3.3.0,>=3.2.0->fr-core-news-sm==3.2.0) (3.0.4)\n",
            "Requirement already satisfied: idna<3,>=2.5 in /usr/local/lib/python3.7/dist-packages (from requests<3.0.0,>=2.13.0->spacy<3.3.0,>=3.2.0->fr-core-news-sm==3.2.0) (2.10)\n",
            "Requirement already satisfied: click<9.0.0,>=7.1.1 in /usr/local/lib/python3.7/dist-packages (from typer<0.5.0,>=0.3.0->spacy<3.3.0,>=3.2.0->fr-core-news-sm==3.2.0) (7.1.2)\n",
            "Requirement already satisfied: MarkupSafe>=0.23 in /usr/local/lib/python3.7/dist-packages (from jinja2->spacy<3.3.0,>=3.2.0->fr-core-news-sm==3.2.0) (2.0.1)\n",
            "Installing collected packages: fr-core-news-sm\n",
            "Successfully installed fr-core-news-sm-3.2.0\n",
            "\u001b[38;5;2m✔ Download and installation successful\u001b[0m\n",
            "You can now load the package via spacy.load('fr_core_news_sm')\n"
          ]
        }
      ]
    },
    {
      "cell_type": "code",
      "metadata": {
        "colab": {
          "base_uri": "https://localhost:8080/"
        },
        "id": "slDTBo0W1VCL",
        "outputId": "1d296fb5-d251-404a-de1b-f79289d774cf"
      },
      "source": [
        "!pip install spacy-langdetect"
      ],
      "execution_count": null,
      "outputs": [
        {
          "output_type": "stream",
          "name": "stdout",
          "text": [
            "Collecting spacy-langdetect\n",
            "  Downloading spacy_langdetect-0.1.2-py3-none-any.whl (5.0 kB)\n",
            "Collecting langdetect==1.0.7\n",
            "  Downloading langdetect-1.0.7.zip (998 kB)\n",
            "\u001b[K     |████████████████████████████████| 998 kB 5.0 MB/s \n",
            "\u001b[?25hRequirement already satisfied: pytest in /usr/local/lib/python3.7/dist-packages (from spacy-langdetect) (3.6.4)\n",
            "Requirement already satisfied: six in /usr/local/lib/python3.7/dist-packages (from langdetect==1.0.7->spacy-langdetect) (1.15.0)\n",
            "Requirement already satisfied: py>=1.5.0 in /usr/local/lib/python3.7/dist-packages (from pytest->spacy-langdetect) (1.11.0)\n",
            "Requirement already satisfied: pluggy<0.8,>=0.5 in /usr/local/lib/python3.7/dist-packages (from pytest->spacy-langdetect) (0.7.1)\n",
            "Requirement already satisfied: setuptools in /usr/local/lib/python3.7/dist-packages (from pytest->spacy-langdetect) (57.4.0)\n",
            "Requirement already satisfied: atomicwrites>=1.0 in /usr/local/lib/python3.7/dist-packages (from pytest->spacy-langdetect) (1.4.0)\n",
            "Requirement already satisfied: attrs>=17.4.0 in /usr/local/lib/python3.7/dist-packages (from pytest->spacy-langdetect) (21.4.0)\n",
            "Requirement already satisfied: more-itertools>=4.0.0 in /usr/local/lib/python3.7/dist-packages (from pytest->spacy-langdetect) (8.12.0)\n",
            "Building wheels for collected packages: langdetect\n",
            "  Building wheel for langdetect (setup.py) ... \u001b[?25l\u001b[?25hdone\n",
            "  Created wheel for langdetect: filename=langdetect-1.0.7-py3-none-any.whl size=993431 sha256=a3f6b69fce4fcf5a4c510fcbc320dc59e918ec501af2af31fa1c63d64ac70406\n",
            "  Stored in directory: /root/.cache/pip/wheels/89/79/3b/9885ae7f4308f73c514f96d8574d40d7d8173a27731b674013\n",
            "Successfully built langdetect\n",
            "Installing collected packages: langdetect, spacy-langdetect\n",
            "Successfully installed langdetect-1.0.7 spacy-langdetect-0.1.2\n"
          ]
        }
      ]
    },
    {
      "cell_type": "code",
      "metadata": {
        "id": "f4WrQ7OQgRq4",
        "colab": {
          "base_uri": "https://localhost:8080/"
        },
        "outputId": "0a049f16-f8df-450d-e31d-b9cd30465313"
      },
      "source": [
        "!python -m spacy download fr_dep_news_trf"
      ],
      "execution_count": null,
      "outputs": [
        {
          "output_type": "stream",
          "name": "stdout",
          "text": [
            "Collecting fr-dep-news-trf==3.2.0\n",
            "  Downloading https://github.com/explosion/spacy-models/releases/download/fr_dep_news_trf-3.2.0/fr_dep_news_trf-3.2.0-py3-none-any.whl (400.7 MB)\n",
            "\u001b[K     |████████████████████████████████| 400.7 MB 23 kB/s \n",
            "\u001b[?25hCollecting spacy-transformers<1.2.0,>=1.1.2\n",
            "  Downloading spacy_transformers-1.1.4-py2.py3-none-any.whl (51 kB)\n",
            "\u001b[K     |████████████████████████████████| 51 kB 193 kB/s \n",
            "\u001b[?25hRequirement already satisfied: spacy<3.3.0,>=3.2.0 in /usr/local/lib/python3.7/dist-packages (from fr-dep-news-trf==3.2.0) (3.2.1)\n",
            "Collecting sentencepiece!=0.1.92,>=0.1.91\n",
            "  Downloading sentencepiece-0.1.96-cp37-cp37m-manylinux_2_17_x86_64.manylinux2014_x86_64.whl (1.2 MB)\n",
            "\u001b[K     |████████████████████████████████| 1.2 MB 10.1 MB/s \n",
            "\u001b[?25hRequirement already satisfied: protobuf in /usr/local/lib/python3.7/dist-packages (from fr-dep-news-trf==3.2.0) (3.17.3)\n",
            "Requirement already satisfied: wasabi<1.1.0,>=0.8.1 in /usr/local/lib/python3.7/dist-packages (from spacy<3.3.0,>=3.2.0->fr-dep-news-trf==3.2.0) (0.9.0)\n",
            "Requirement already satisfied: blis<0.8.0,>=0.4.0 in /usr/local/lib/python3.7/dist-packages (from spacy<3.3.0,>=3.2.0->fr-dep-news-trf==3.2.0) (0.4.1)\n",
            "Requirement already satisfied: pathy>=0.3.5 in /usr/local/lib/python3.7/dist-packages (from spacy<3.3.0,>=3.2.0->fr-dep-news-trf==3.2.0) (0.6.1)\n",
            "Requirement already satisfied: cymem<2.1.0,>=2.0.2 in /usr/local/lib/python3.7/dist-packages (from spacy<3.3.0,>=3.2.0->fr-dep-news-trf==3.2.0) (2.0.6)\n",
            "Requirement already satisfied: tqdm<5.0.0,>=4.38.0 in /usr/local/lib/python3.7/dist-packages (from spacy<3.3.0,>=3.2.0->fr-dep-news-trf==3.2.0) (4.62.3)\n",
            "Requirement already satisfied: numpy>=1.15.0 in /usr/local/lib/python3.7/dist-packages (from spacy<3.3.0,>=3.2.0->fr-dep-news-trf==3.2.0) (1.19.5)\n",
            "Requirement already satisfied: murmurhash<1.1.0,>=0.28.0 in /usr/local/lib/python3.7/dist-packages (from spacy<3.3.0,>=3.2.0->fr-dep-news-trf==3.2.0) (1.0.6)\n",
            "Requirement already satisfied: jinja2 in /usr/local/lib/python3.7/dist-packages (from spacy<3.3.0,>=3.2.0->fr-dep-news-trf==3.2.0) (2.11.3)\n",
            "Requirement already satisfied: typing-extensions<4.0.0.0,>=3.7.4 in /usr/local/lib/python3.7/dist-packages (from spacy<3.3.0,>=3.2.0->fr-dep-news-trf==3.2.0) (3.10.0.2)\n",
            "Requirement already satisfied: spacy-legacy<3.1.0,>=3.0.8 in /usr/local/lib/python3.7/dist-packages (from spacy<3.3.0,>=3.2.0->fr-dep-news-trf==3.2.0) (3.0.8)\n",
            "Requirement already satisfied: thinc<8.1.0,>=8.0.12 in /usr/local/lib/python3.7/dist-packages (from spacy<3.3.0,>=3.2.0->fr-dep-news-trf==3.2.0) (8.0.13)\n",
            "Requirement already satisfied: srsly<3.0.0,>=2.4.1 in /usr/local/lib/python3.7/dist-packages (from spacy<3.3.0,>=3.2.0->fr-dep-news-trf==3.2.0) (2.4.2)\n",
            "Requirement already satisfied: requests<3.0.0,>=2.13.0 in /usr/local/lib/python3.7/dist-packages (from spacy<3.3.0,>=3.2.0->fr-dep-news-trf==3.2.0) (2.23.0)\n",
            "Requirement already satisfied: packaging>=20.0 in /usr/local/lib/python3.7/dist-packages (from spacy<3.3.0,>=3.2.0->fr-dep-news-trf==3.2.0) (21.3)\n",
            "Requirement already satisfied: pydantic!=1.8,!=1.8.1,<1.9.0,>=1.7.4 in /usr/local/lib/python3.7/dist-packages (from spacy<3.3.0,>=3.2.0->fr-dep-news-trf==3.2.0) (1.8.2)\n",
            "Requirement already satisfied: spacy-loggers<2.0.0,>=1.0.0 in /usr/local/lib/python3.7/dist-packages (from spacy<3.3.0,>=3.2.0->fr-dep-news-trf==3.2.0) (1.0.1)\n",
            "Requirement already satisfied: langcodes<4.0.0,>=3.2.0 in /usr/local/lib/python3.7/dist-packages (from spacy<3.3.0,>=3.2.0->fr-dep-news-trf==3.2.0) (3.3.0)\n",
            "Requirement already satisfied: catalogue<2.1.0,>=2.0.6 in /usr/local/lib/python3.7/dist-packages (from spacy<3.3.0,>=3.2.0->fr-dep-news-trf==3.2.0) (2.0.6)\n",
            "Requirement already satisfied: setuptools in /usr/local/lib/python3.7/dist-packages (from spacy<3.3.0,>=3.2.0->fr-dep-news-trf==3.2.0) (57.4.0)\n",
            "Requirement already satisfied: preshed<3.1.0,>=3.0.2 in /usr/local/lib/python3.7/dist-packages (from spacy<3.3.0,>=3.2.0->fr-dep-news-trf==3.2.0) (3.0.6)\n",
            "Requirement already satisfied: typer<0.5.0,>=0.3.0 in /usr/local/lib/python3.7/dist-packages (from spacy<3.3.0,>=3.2.0->fr-dep-news-trf==3.2.0) (0.4.0)\n",
            "Requirement already satisfied: zipp>=0.5 in /usr/local/lib/python3.7/dist-packages (from catalogue<2.1.0,>=2.0.6->spacy<3.3.0,>=3.2.0->fr-dep-news-trf==3.2.0) (3.7.0)\n",
            "Requirement already satisfied: pyparsing!=3.0.5,>=2.0.2 in /usr/local/lib/python3.7/dist-packages (from packaging>=20.0->spacy<3.3.0,>=3.2.0->fr-dep-news-trf==3.2.0) (3.0.7)\n",
            "Requirement already satisfied: smart-open<6.0.0,>=5.0.0 in /usr/local/lib/python3.7/dist-packages (from pathy>=0.3.5->spacy<3.3.0,>=3.2.0->fr-dep-news-trf==3.2.0) (5.2.1)\n",
            "Requirement already satisfied: urllib3!=1.25.0,!=1.25.1,<1.26,>=1.21.1 in /usr/local/lib/python3.7/dist-packages (from requests<3.0.0,>=2.13.0->spacy<3.3.0,>=3.2.0->fr-dep-news-trf==3.2.0) (1.24.3)\n",
            "Requirement already satisfied: certifi>=2017.4.17 in /usr/local/lib/python3.7/dist-packages (from requests<3.0.0,>=2.13.0->spacy<3.3.0,>=3.2.0->fr-dep-news-trf==3.2.0) (2021.10.8)\n",
            "Requirement already satisfied: idna<3,>=2.5 in /usr/local/lib/python3.7/dist-packages (from requests<3.0.0,>=2.13.0->spacy<3.3.0,>=3.2.0->fr-dep-news-trf==3.2.0) (2.10)\n",
            "Requirement already satisfied: chardet<4,>=3.0.2 in /usr/local/lib/python3.7/dist-packages (from requests<3.0.0,>=2.13.0->spacy<3.3.0,>=3.2.0->fr-dep-news-trf==3.2.0) (3.0.4)\n",
            "Collecting transformers<4.16.0,>=3.4.0\n",
            "  Downloading transformers-4.15.0-py3-none-any.whl (3.4 MB)\n",
            "\u001b[K     |████████████████████████████████| 3.4 MB 77.6 MB/s \n",
            "\u001b[?25hCollecting spacy-alignments<1.0.0,>=0.7.2\n",
            "  Downloading spacy_alignments-0.8.4-cp37-cp37m-manylinux_2_17_x86_64.manylinux2014_x86_64.whl (1.1 MB)\n",
            "\u001b[K     |████████████████████████████████| 1.1 MB 65.7 MB/s \n",
            "\u001b[?25hRequirement already satisfied: torch>=1.6.0 in /usr/local/lib/python3.7/dist-packages (from spacy-transformers<1.2.0,>=1.1.2->fr-dep-news-trf==3.2.0) (1.10.0+cu111)\n",
            "Collecting sacremoses\n",
            "  Downloading sacremoses-0.0.47-py2.py3-none-any.whl (895 kB)\n",
            "\u001b[K     |████████████████████████████████| 895 kB 63.6 MB/s \n",
            "\u001b[?25hCollecting pyyaml>=5.1\n",
            "  Downloading PyYAML-6.0-cp37-cp37m-manylinux_2_5_x86_64.manylinux1_x86_64.manylinux_2_12_x86_64.manylinux2010_x86_64.whl (596 kB)\n",
            "\u001b[K     |████████████████████████████████| 596 kB 76.1 MB/s \n",
            "\u001b[?25hRequirement already satisfied: regex!=2019.12.17 in /usr/local/lib/python3.7/dist-packages (from transformers<4.16.0,>=3.4.0->spacy-transformers<1.2.0,>=1.1.2->fr-dep-news-trf==3.2.0) (2019.12.20)\n",
            "Collecting tokenizers<0.11,>=0.10.1\n",
            "  Downloading tokenizers-0.10.3-cp37-cp37m-manylinux_2_5_x86_64.manylinux1_x86_64.manylinux_2_12_x86_64.manylinux2010_x86_64.whl (3.3 MB)\n",
            "\u001b[K     |████████████████████████████████| 3.3 MB 44.7 MB/s \n",
            "\u001b[?25hCollecting huggingface-hub<1.0,>=0.1.0\n",
            "  Downloading huggingface_hub-0.4.0-py3-none-any.whl (67 kB)\n",
            "\u001b[K     |████████████████████████████████| 67 kB 5.7 MB/s \n",
            "\u001b[?25hRequirement already satisfied: importlib-metadata in /usr/local/lib/python3.7/dist-packages (from transformers<4.16.0,>=3.4.0->spacy-transformers<1.2.0,>=1.1.2->fr-dep-news-trf==3.2.0) (4.10.1)\n",
            "Requirement already satisfied: filelock in /usr/local/lib/python3.7/dist-packages (from transformers<4.16.0,>=3.4.0->spacy-transformers<1.2.0,>=1.1.2->fr-dep-news-trf==3.2.0) (3.4.2)\n",
            "Requirement already satisfied: click<9.0.0,>=7.1.1 in /usr/local/lib/python3.7/dist-packages (from typer<0.5.0,>=0.3.0->spacy<3.3.0,>=3.2.0->fr-dep-news-trf==3.2.0) (7.1.2)\n",
            "Requirement already satisfied: MarkupSafe>=0.23 in /usr/local/lib/python3.7/dist-packages (from jinja2->spacy<3.3.0,>=3.2.0->fr-dep-news-trf==3.2.0) (2.0.1)\n",
            "Requirement already satisfied: six>=1.9 in /usr/local/lib/python3.7/dist-packages (from protobuf->fr-dep-news-trf==3.2.0) (1.15.0)\n",
            "Requirement already satisfied: joblib in /usr/local/lib/python3.7/dist-packages (from sacremoses->transformers<4.16.0,>=3.4.0->spacy-transformers<1.2.0,>=1.1.2->fr-dep-news-trf==3.2.0) (1.1.0)\n",
            "Installing collected packages: pyyaml, tokenizers, sacremoses, huggingface-hub, transformers, spacy-alignments, spacy-transformers, sentencepiece, fr-dep-news-trf\n",
            "  Attempting uninstall: pyyaml\n",
            "    Found existing installation: PyYAML 3.13\n",
            "    Uninstalling PyYAML-3.13:\n",
            "      Successfully uninstalled PyYAML-3.13\n",
            "Successfully installed fr-dep-news-trf-3.2.0 huggingface-hub-0.4.0 pyyaml-6.0 sacremoses-0.0.47 sentencepiece-0.1.96 spacy-alignments-0.8.4 spacy-transformers-1.1.4 tokenizers-0.10.3 transformers-4.15.0\n",
            "\u001b[38;5;2m✔ Download and installation successful\u001b[0m\n",
            "You can now load the package via spacy.load('fr_dep_news_trf')\n"
          ]
        }
      ]
    },
    {
      "cell_type": "markdown",
      "metadata": {
        "id": "-PMYOyn4XUSK"
      },
      "source": [
        "----\n",
        "## Ne pas oublier de relancer l'environnement\n",
        "----"
      ]
    },
    {
      "cell_type": "markdown",
      "source": [
        "# Téléchargement des données du \"Data-Paper\"\n",
        "> récupération depuis le dépôt Git des données sauvegardées. Le dossier DistorsionCom, sera accessible après téléchargement par le menu fichier à gauche. Le dossier contient également un ensemble de fonctions utilitaires dans le document \"outils.py\""
      ],
      "metadata": {
        "id": "D7r--s4Rl194"
      }
    },
    {
      "cell_type": "code",
      "metadata": {
        "id": "U5UqV_aNiAPj",
        "colab": {
          "base_uri": "https://localhost:8080/"
        },
        "outputId": "0fe39964-f086-424a-ae4a-2b5eb37bb7aa"
      },
      "source": [
        "from google.colab import files\n",
        "\n",
        "# Si le dossier est déjà monté dans l'environnement d'exécution, on passe\n",
        "try:\n",
        "  !git clone https://github.com/Patent2net/LexiComWeb.git\n",
        "  os.chdir('LexiComWeb')\n",
        "except:\n",
        "  print(\"Dossier déjà monté, vous pouvez continuer l'exécution\")"
      ],
      "execution_count": null,
      "outputs": [
        {
          "output_type": "stream",
          "name": "stdout",
          "text": [
            "Cloning into 'LexiComWeb'...\n",
            "remote: Enumerating objects: 38, done.\u001b[K\n",
            "remote: Counting objects: 100% (38/38), done.\u001b[K\n",
            "remote: Compressing objects: 100% (31/31), done.\u001b[K\n",
            "remote: Total 38 (delta 6), reused 37 (delta 5), pack-reused 0\u001b[K\n",
            "Unpacking objects: 100% (38/38), done.\n",
            "Dossier déjà monté, vous pouvez continuer l'exécution\n"
          ]
        }
      ]
    },
    {
      "cell_type": "code",
      "metadata": {
        "id": "bZt97yJCiGmo"
      },
      "source": [
        "import os\n",
        "os.chdir(\"/content/LexiComWeb/RESSOURCES\")\n",
        "from outils import isPartner"
      ],
      "execution_count": null,
      "outputs": []
    },
    {
      "cell_type": "code",
      "metadata": {
        "id": "AMTtfiqIzDrD"
      },
      "source": [
        "stockageEntree = \"/content/LexiComWeb/\"\n",
        "stockageSortie = \"/content/LexiComWeb/\""
      ],
      "execution_count": null,
      "outputs": []
    },
    {
      "cell_type": "markdown",
      "metadata": {
        "id": "Txv0Pk7P_xbw"
      },
      "source": [
        "\n",
        "---\n",
        "# Personnalisation (Option)"
      ]
    },
    {
      "cell_type": "markdown",
      "metadata": {
        "id": "3rntapC_RCnd"
      },
      "source": [
        "> Ces cellules permettent de réaliser les traitements à partir de son propre espace de stockage. A n'exécuter que dans ce cas en adaptant les dossiers d'entrée et sortie. NE PAS EXECUTER SAUF A VOULOIR PERSONNALISER LES TRAITEMENTS.\n",
        "\n",
        "Si vous avez exécuté le scraper et reconstitué l'ensemble des dossiers nécessaires sur votre drive, ces cellules vous permettent de configurer ce notebook pour travailler sur vos données et non celles issues du git (accessibles sur un dossier virtuel via le menu *Fichiers* à gauche)."
      ]
    },
    {
      "cell_type": "code",
      "metadata": {
        "colab": {
          "base_uri": "https://localhost:8080/"
        },
        "id": "cr3_QQJq_veT",
        "outputId": "8a7d10d5-9f26-44df-bf2d-af4b4eec3b00"
      },
      "source": [
        "from google.colab import drive\n",
        "drive.mount('/content/drive')"
      ],
      "execution_count": null,
      "outputs": [
        {
          "output_type": "stream",
          "name": "stdout",
          "text": [
            "Mounted at /content/drive\n"
          ]
        }
      ]
    },
    {
      "cell_type": "code",
      "metadata": {
        "id": "PpnXg8eWHorz"
      },
      "source": [
        "# Récupérer les entrées sur son drive\n",
        "stockageEntree = \"/content/drive/MyDrive/OUT\"\n",
        "\n",
        "# Récupérer les sorties sur son drive (créer un dossier \"OUT\")\n",
        "stockageSortie = \"/content/drive/MyDrive/OUT\""
      ],
      "execution_count": null,
      "outputs": []
    },
    {
      "cell_type": "markdown",
      "metadata": {
        "id": "wbKLKuPg_0jY"
      },
      "source": [
        "---"
      ]
    },
    {
      "cell_type": "markdown",
      "source": [
        "# Chargement des librairies et fonctions utilitaires"
      ],
      "metadata": {
        "id": "cNeYZYrkM4B5"
      }
    },
    {
      "cell_type": "code",
      "metadata": {
        "id": "6RlCJ1I7PeMd"
      },
      "source": [
        "import os, re, spacy\n",
        "from os import path\n",
        "from collections import Counter\n",
        "from spacy.language import Language\n",
        "from spacy_langdetect import LanguageDetector\n",
        "import pandas as pd\n",
        "from urllib import parse\n",
        "import json"
      ],
      "execution_count": null,
      "outputs": []
    },
    {
      "cell_type": "code",
      "metadata": {
        "id": "PnKDiHbz-5eH"
      },
      "source": [
        "def get_lang_detector(nlp, name):\n",
        "    return LanguageDetector()"
      ],
      "execution_count": null,
      "outputs": []
    },
    {
      "cell_type": "code",
      "metadata": {
        "id": "ZsGUtvqW_FIG",
        "colab": {
          "base_uri": "https://localhost:8080/"
        },
        "outputId": "1cf1e06c-032d-483b-82e4-152dc88e724e"
      },
      "source": [
        "# A ne pas lancer plusieurs fois !!\n",
        "Language.factory(\"language_detector\", func=get_lang_detector)"
      ],
      "execution_count": null,
      "outputs": [
        {
          "output_type": "execute_result",
          "data": {
            "text/plain": [
              "<function __main__.get_lang_detector>"
            ]
          },
          "metadata": {},
          "execution_count": 6
        }
      ]
    },
    {
      "cell_type": "markdown",
      "metadata": {
        "id": "gucArhrlrQfC"
      },
      "source": [
        "---"
      ]
    },
    {
      "cell_type": "markdown",
      "metadata": {
        "id": "1_naQNFrDc4a"
      },
      "source": [
        "# Prétraitements \n",
        "\n",
        "## Détection de langue\n",
        "> Les procédures de lemmatisation et autres fonctions TAL sont fonction de la langue. Seul le modèle FR est chargé. Les autres langues seront exclues."
      ]
    },
    {
      "cell_type": "code",
      "metadata": {
        "id": "lZYxIaF3fDbx"
      },
      "source": [
        "  # deux modèles de données spacy sont utilisés du fait de leur efficacité relative à la détection des entités\n",
        "    # 'fr_core_news_sm' fonctionne mieux pour la détection des entités\n",
        "  tal = spacy.load('fr_core_news_sm')\n"
      ],
      "execution_count": null,
      "outputs": []
    },
    {
      "cell_type": "code",
      "metadata": {
        "colab": {
          "base_uri": "https://localhost:8080/"
        },
        "id": "t4_kvS30AfX1",
        "outputId": "e8da6410-b8c5-4652-dbfe-c76b66096a5c"
      },
      "source": [
        "tal.add_pipe('language_detector', last=True) # Permet de détecter la langue"
      ],
      "execution_count": null,
      "outputs": [
        {
          "output_type": "execute_result",
          "data": {
            "text/plain": [
              "<spacy_langdetect.spacy_langdetect.LanguageDetector at 0x7fd146733890>"
            ]
          },
          "metadata": {},
          "execution_count": 8
        }
      ]
    },
    {
      "cell_type": "code",
      "metadata": {
        "id": "30SxjpwZ0QH7"
      },
      "source": [
        "aGarder, aVirer = dict([]), dict([])"
      ],
      "execution_count": null,
      "outputs": []
    },
    {
      "cell_type": "code",
      "metadata": {
        "id": "BTqmpH0HyY-b",
        "colab": {
          "base_uri": "https://localhost:8080/"
        },
        "outputId": "05d577ad-849b-46b1-bec2-a6a2acd3cca2"
      },
      "source": [
        "for ndf in os.listdir(stockageEntree + \"/ContenusSites/\"):\n",
        "  fichierEntree = stockageEntree + \"/ContenusSites/\" + ndf\n",
        "  if not ndf.startswith('.') and \"backlinks\" not in ndf and 'stats' not in ndf and \"BadUrls\" not in ndf:\n",
        "    with open (fichierEntree, 'rb') as  fictemp:\n",
        "      soupe = json.load(fictemp)\n",
        "    ndf = ndf.replace('.json', '')\n",
        "    if ndf not in aVirer.keys():\n",
        "      aVirer[ndf] = []\n",
        "    if ndf not in aGarder.keys():\n",
        "      aGarder[ndf] = []\n",
        "    for url in soupe.keys():\n",
        "      tousLesContenus = soupe [url] \n",
        "      if len(str(tousLesContenus))< 1000000:\n",
        "        doc = tal(str(tousLesContenus))\n",
        "        if not doc._.language[\"language\"] == \"fr\": # exclusion si fr non détecté\n",
        "          print(\"pas fr (ou vide) : \", url, soupe [url] )\n",
        "          aVirer[ndf].append(url)\n",
        "        else:\n",
        "          aGarder[ndf].append(url)\n",
        "      else:\n",
        "        aVirer[ndf].append(url) # erreur très probable du collecteur au moment de la collecte\n",
        "        print(\"vraiment trop grand : \", url )\n",
        "# seront affichés dans la fenêtre de sortie les url collectés dont le contenu est détecté comme non FR. \n",
        "# les urls sont placés dans la variable aVirer [categorieEnCours]"
      ],
      "execution_count": null,
      "outputs": [
        {
          "output_type": "stream",
          "name": "stdout",
          "text": [
            "pas fr (ou vide) :  http://carqueiranne.fr 403 Forbidden    403 Forbidden  nginx  \n",
            "pas fr (ou vide) :  http://heliotel.net 403 Forbidden    403 Forbidden  nginx  \n",
            "pas fr (ou vide) :  http://pradet-vacances.com Not Acceptable! Not Acceptable! An appropriate representation of the requested resource could not be found on this server. This error was generated by Mod_Security.\n",
            "pas fr (ou vide) :  http://campingdupindegalle.com 403 Forbidden    403 Forbidden  nginx  \n",
            "pas fr (ou vide) :  http://labastide-decharlotte.fr 403 Forbidden    403 Forbidden  nginx  \n",
            "pas fr (ou vide) :  http://villa-carmignac.com 404 Not Found  Not Found  The requested URL was not found on this server. \n",
            "pas fr (ou vide) :  http://mercure.com Book a 3 or 4-star hotel at the best price - Mercure America       Menu  Mercure Home  The Mercure Experience  Discover Local  Discover our Local Stories  Special Offers  Our hotels around the world Back  Our hotels around the world Flagship Hotels Travel ideas Mercure world tour Our destinations worldwide Europe Africa Asia Middle East Central America South America Pacific Australia Our top destinations Hotels in London Hotels in Edinburgh Hotels in Glasgow Hotels in Manchester Hotels in Paris Hotels in Amsterdam  Meetings & Events  ALL Home  Professional Solutions Back  Business Business travel Travel professionals Meetings & Events Day rooms  Loyalty programme Back  ALL Check out the programme Earn Reward points Use Reward points Benefits & statuses Partners https://lacollectionbyleclubaccorhotels.com/elite-experiences/accorhotelsarena-vip-box.html  My bookings  My bookings  Support   Français Back Currency   Euro Back All: Accor Live Limitless - Home       Mercure hotels                                        Eternal Paris                  Abu Dhabi: a vibrant capital                                                      Eternal Paris                  Abu Dhabi: a vibrant capital                           Destination        Arrival date         Departure date         Or night(s)        Room(s)   Number of guests   Room(s)     Adult(s)     Child(ren)        Room layout       Loyalty or membership card number      Business travellers with a contract   Business travellers with a contract     Client code (SC, AS...)     Access code        More criteria (facilities, etc.)      Services :      Preferential code         Budget (Average price/night)    Any          Advanced search    View or cancel booking                 Three journey ideas    Ready to Go        Ready to Go  Up to 15 days free parking!  One-night stay + parking + airport shuttle*      Discover        Sweet Break in France        Sweet Break in France  Enjoy up to 30% off.  Take a sweet break in France and enjoy last minute low rates with up to 30% off.      Discover       Find out more      Discover more destinations    Romance in Paris        Romance in Paris  Paris                 Australia        Australia  Melbourne                 Brazil        Brazil  São Paulo                 Discover London        Discover London  London                 Germany        Germany  Berlin                 Visit Sydney        Visit Sydney  Sydney                 Netherlands        Netherlands  Amsterdam                 Indonesia        Indonesia  Jakarta                 South Africa        South Africa  Johannesburg                     Lyon           Cologne           Bordeaux           Budapest           Nice           Vienna                 Join ALL  Become a member and enjoy up to 10% extra off as well as other amazing benefits. Join our free loyalty programme today. Subscribe Enjoy the benefits of the ALL loyalty programme with Mercure. Our best price guaranteed Our members receive the lowest rate when they book direct-plus an extra up to 10% off! Exclusive Offers Enjoy exclusive rates before everyone else with preview access to our private sales. Online check-in Fast check-out Prepare your fast check-in the day before you arrive, then simply drop off your key for a speedy departure. Once complete you will receive your invoice by email. Mercure hotels within your hand's reach  Download our app.   Stay Connected  Subscribe to the newsletter and never miss any discounts. Subscribe  Facebook  Twitter  Google +  Youtube  Instagram MERCURE The Mercure Universe Special Offers Choose your Mercure Meetings & Events ALL Newsletter All languages ACCOR GROUP Group.Accor.com Company under contract Travel Agency Leisure professional Accor Meetings Affiliate Program General terms and conditions of sale Press area Management and franchise Career Sustainable developmen Web accessibility HELP AND CONTACTS Manage your reservations Best price guaranteed Contacts Site map Personal data Do Not Sell My Personal Information Cookies Legal information A Mercure hotel for all your destinations Hotel Amsterdam Hotel Auckland Hotel Berlin Hotel Blackburn Hotel Bristol Hotel Budapest Hotel Cardiff Hotel Dusseldorf Hotel Edinburgh Hotel Exeter Hotel Lille Hotel Frankfurt Hotel Johannesburg Hotel London Hotel Madrid Hotel Manchester Hotel Melbourne Hotel Munich Hotel Nice Hotel Paris Hotel Rio de Janeiro Hotel Rome Hotel Sao Paolo Hotel Sheffield Hotel Singapore Hotel Sydney Hotel Vienna Hotel Wellington Hotel Winchester Hotel Windsor Hotel York *Prices start from, based on a one night stay in a standard double room for two guests. Supplementary services, breakfast and tourist/city tax are not included. Price observed on mercure.accor.com within the past 24 hours, for a one night stay within the next eight days, starting tomorrow. Price subject to the hotel conditions, period and availability. Depending on the country, these prices may not include taxes, may include VAT only or may include all taxes (VAT and tourist/city tax). When prices do not include all taxes, the relevant taxes (VAT and tourist/city tax) will be stated in the forthcoming stages of the reservation process. The price is only guaranteed at the time of reservation. FEVAD (Federation of E-commerce and Distance Selling)  mercure adheres to the FEVAD (Federation of E-commerce and Distance Selling) Code of Ethics and to its Charter for Mediation in E-commerce. Customer opinions in partnership with TripAdvisor               \n",
            "pas fr (ou vide) :  http://ibis.com Book a cheap hotel with ibis – All our hotels                                                 Menu  Home ibis  Find your hotel Back  Find your hotel By destination Travel ideas OUR TOP DESTINATIONS Hotels in London Hotels in Birmingham Hotels in Paris Hotels in Amsterdam Hotels in Melbourne Hotels in Sydney https://ibis.accorhotels.com/business/ibis-business-card/index.en.shtml  Special Offers  ibis store  ibis Brands Back ibis ibis Styles ibis budget https://ibis.accorhotels.com/discovering/ibis-hotel/bedding/bedding.en.shtml  ibis BUSINESS card  Meeting Offers  ALL Home  Professional Solutions Back  Business Business travel Travel professionals Meetings & Events Day rooms  Loyalty programme Back  ALL Check out the programme Earn Reward points Use Reward points Benefits & statuses Partners https://lacollectionbyleclubaccorhotels.com/elite-experiences/accorhotelsarena-vip-box.html  My bookings  My bookings  Support   Français Back Currency   Euro Back All: Accor Live Limitless - Home      Home       Close   Find your hotel Where? When?           Night(s) Looking for an hotel in Asia Pacific? Click Here Budget (Average price/night) Exclusive Luxury Luxe Milieu de gamme Economique Who? Room 1  Adult(s) 1  Child(ren) 0 Rooms Add a room More options Loyalty / membership card number    Preferential code  Business travellers with a contract Client code (SC, AS...)  Access code  Additional criteria (preferential code, services etc.) Services Budget (Average price/night) Any Your sign-in details are not valid; please re-enter them. SEARCH  Advanced search         SEARCH         Advance Saver                                 Discover our offers  Discover our offers          Offers & Promotions            Tomese su Tiempo  Haz que cada momento cuente con hasta un 30% de descuento.    Find out more                  Offers & Promotions  Offers & Promotions             Top destinations            Lima   5 hotels         Recife   2 hotels            New York city   0 hotels         Mexico City   4 hotels            Rome   3 hotels         London   37 hotels            São Paulo   26 hotels         Paris   100 hotels            Hong Kong   2 hotels         Sydney   14 hotels            Amsterdam   14 hotels         Tokyo   2 hotels               ibis brands ibis brands 2000 hotels and just as many experiences to discover ibis ibis, well-being at a great price DISCOVER ibis Styles ibis Styles, comfort, designs, all inclusive DISCOVER ibis budget Essential comfort at a budget price DISCOVER        *Prices start from, based on a one night stay in a standard double room for two guests. Supplementary services, breakfast and tourist/city tax are not included. Price observed on ibis.accor.com within the past 24 hours, for a one night stay within the next eight days, starting tomorrow. Price subject to the hotel conditions, period and availability. Depending on the country, these prices may not include taxes, may include VAT only or may include all taxes (VAT and tourist/city tax). When prices do not include all taxes, the relevant taxes (VAT and tourist/city tax) will be stated in the forthcoming stages of the reservation process. The price is only guaranteed at the time of reservation. Booking Assistance - Need Help? Call us now GET OFFERS AND MORE Subscribe to the newsletter IBIS ON YOUR MOBILE Apple Store  Google Play Facebook  Snapchat  Youtube ibis.accor.com  Help Best price guarantee Terms and conditions of sale Data privacy Do Not Sell My Personal Information Cookies Legal information Site map Web accessibility All languages PROFESSIONALS  Accor group Press area Affiliates Management and franchise Jobs TOP DESTINATIONS  Hotel Manchester Hotel Edinburgh Hotel Bristol Hotel Liverpool Hotel Barcelona Hotel York Hotel Berlin Hotel Dubai Hotel Brussels Hotel Brisbane Hotel Singapore Hotel Adelaide Hotel Perth Hotel Paris Hotel Francfort all.accor.com  Sofitel Legend  So Sofitel  Sofitel  MGallery  Pullman  Adagio Premium  Grand Mercure  The Sebel  Novotel  Mercure  Mama Shelter  Adagio  ibis  ibis Styles  Adagio Access  ibis budget  Hotel F1  Thalassa Sea & Spa Tripadvisor Fevad  Back to top           \n",
            "pas fr (ou vide) :  http://accorhotels.com ALL - Accor Live Limitless                                                                 Menu  Home  Accommodation Back  Hotels Accommodation Find a hotel Browse by destination Themed breaks Hygiene & Safety Appartments & Villas Apartments Villas Suites Homes All our accomodations In our hotels Meetings & events Reception rooms Day Use Room Our brands  Destinations Back  Destinations Our destinations worldwide Europe Asia North America South America Middle East Oceania Africa Top Destinations London Paris Roissy Philadelphia New-York Chicago Munich Amsterdam San Fransisco Auckland Spata Samutprakan Inspiration Browse by theme The Magazine Prepare your trip Car rental – Europcar - Earn up to 1,000 points for every rental, plus get a 10-20% discount!  Offers Back  Deals Selected offers All year Early booking offers Weekend offers Stay longer and save Family offers Currently Exclusive Members Offers Hotel & activity packages Private sales  Activities  Business Back Business Business travel Meetings & events Day Use Room  Book a ride  Loyalty Program Back  Loyalty program Accor Live Limitless Check out the program Earn Rewards points Use Rewards points Benefits & status Partners  Travel professionals  My bookings  My bookings  Support   Français Back Currency   Euro Back All: Accor Live Limitless - Home  My account & Rewards   Home - Accor   The finest hotels at the best prices! O error Where do you want to travel ?  Destination, hotel name (required fields) Check-In  DD/MM/YYYY     Check-Out  DD/MM/YYYY      Rooms & Guests  Edit the composition :  1 Room(s) - 1 Guest(s) Rooms  - Remove a room   + Add a room Room 1 Room 1 Adult(s)  - Remove an adult - Room 1   + Add an adult - Room 1 Child(ren)  - Remove a child - Room 1   + Add a child - Room 1 Special rates Travellers Loyalty or subscription number  16-digit number on your card  Professional Travellers Business client with contract  Client code (SC, AS...)  Access code  10 characters  Promo code Preferential code   Search       More than hotels. A way of life            Hotels             Restaurants & Bars             Meetings & Events             Activities & Events             Hotel Office       Offers  Our current offers       Find your ideal spot to unwind with up to 30% off.  Take Your Time  Book Now   Take Your Time         Book by March 31, 2022 to earn triple the Reward points on your next getaway  Book Now         Earn Reward points on dining - even without a stay!           Host your celebration with ALL to earn 2X Reward points.  Learn more         Join ALL now                  LOYALTY PROGRAMME Earn points and unlock exclusive benefits Stay, work and earn points every day. Unlock custom benefits and unforgettable experiences with our ALL – Accor Live Limitless loyalty programme. Learn about the programme  Become a member     City breaks  ALL takes you places        Canberra          Amsterdam          Toronto          Rio de Janeiro          Vienna          London       All our destinations      Best Price Guarantee If you find a lower price elsewhere, we'll match it and give you 25% off the competitor's rate! Find out more See conditions Loyalty Programme One programme, savings every day, new experiences Find out more Exclusive offers and private sales Subscribe to our newsletter and be the first to hear about exclusive offers and pre-sales. Find out more     Luxury  (14) Raffles  Orient Express  Faena  Banyan tree  Delano  Sofitel legend  Fairmont  Emblems  SLS  SO Sofitel  Sofitel  The House of Originals  Rixos  onefinestay  Premium  (14) Mantis  M gallery  21C  Art Series  Mondrian  Pullman  Swissotel  Angsana  25 hours hotels  Hyde  Mövenpick  Grand mercure  Peppers  The Sebel  Midscale  (6) Mantra  Novotel  Mercure  Adagio  Mama shelter  Tribe  Economy  (6) BreakFree  Ibis  Ibis styles  Agagio access  Greet  Jo&Joe  See all brands Exclusive offers Sign up to our newsletter to receive our latest offers     Email (eg name@domain.com)   Sign up Need help? Manage booking Support Limitless Personal Assistant You want to book ? 844 382 2267 Note 2  (**) Company  Company Accor Group Management & franchises Careers Sustainable development Affiliate programme Professional Solutions  Professional Solutions Business travel Meetings & events Travel professionals Navigation  Navigation Web accessibility Sitemap All our services All languages Mobile App  Mobile App Mobile services iOS app Android app Accor Facebook  Accor Instagram  Accor Twitter  Accor Pinterest  Accor Youtube  Accor Linkedin  Accor Weibo  Tripadvisor  T&Cs Adagio T&Cs Membership T&Cs Privacy Cookies Legal Notice Do Not Sell My Personal Information © Accor2019  沪ICP备10203162号-7 *Prices start from, based on a one night stay in a standard double room for two guests. Supplementary services, breakfast and tourist/city tax are not included. Price observed on all.accor.com within the past 24 hours, for a one night stay within the next eight days, starting tomorrow. Price subject to the hotel conditions, period and availability. Depending on the country, these prices may not include taxes, may include VAT only or may include all taxes (VAT and tourist/city tax). When prices do not include all taxes, the relevant taxes (VAT and tourist/city tax) will be stated in the forthcoming stages of the reservation process. The price is only guaranteed at the time of reservation. **  Note 2  Available 24/7. Calls to this number will cost 13 pence per minute plus your providers access charge (only for Accor hotels).  Back to the top      \n",
            "pas fr (ou vide) :  http://logishotels.com Access denied | logishotels.com used Cloudflare to restrict access      Please enable cookies.     Error  1020   Ray ID: 6d3012f94c9f8f70 •  2022-01-25 08:19:00 UTC  Access denied     What happened?  This website is using a security service to protect itself from online attacks.      Cloudflare Ray ID: 6d3012f94c9f8f70  •  Your IP : 35.233.215.47  •  Performance & security by  Cloudflare       \n",
            "pas fr (ou vide) :  http://hotel-bb.com Affordable hotels in Europe and in the world | B&B HOTELS    Menu opener    Our hotels Back to Our hotels France Back to France Bretagne Provence-Alpes-Côte d'Azur Aquitaine Midi-Pyrénées Basse-Normandie Île-de-France Paris Lyon Bordeaux Marseille Lille Nantes All destinations in France Germany Back to Germany Our best destinations Berlin Nuremberg Munich Hambourg Cologne Dusseldorf Stuttgart Hannovre Francfort Dresden All our hotels in Germany Italy Back to Italy Milan Rome Pise Bergame Bologne Firenze Torino All destinations in Italy Spain Back to Spain Barcelone Madrid Valence San sebastian Gérone Grenade Figueres All destinations in Spain Poland Back to Poland Our best destinations B&B Hotel Warszawa-Okęcie B&B Hotel Kraków Centrum B&B Hotel Toruń B&B Hotel Wrocław Centrum B&B Hotel Łódź Centrum B&B Hotel Katowice Centrum B&B Hotel Nowy Targ Centrum B&B Hotel Rzeszów Centrum All our hotels in Poland Brazil Back to Brazil Our destinations in Brazil Rio de Janeiro São José dos Campos São Paulo Uberlandia Portugal Back to Portugal Braga Lamaçaes Cantanhede Coimbra Felgueiras Lisbon Setúbal All destinations in Portugal Austria Back to Austria Our best destinations Vienna Graz Villach All our hotels in Austria Switzerland Back to Switzerland Our hotels in Switzerland Zurich Basel Rothrist Oftringen Lully St Gallen All our hotels in Switzerland Belgium Back to Belgium Our hotels in Belgium Brussels Antwerp Ghent Czech Republic Back to Czech Republic Our hotels in Czech Republic B&B Hotel Prague City Slovenia Back to Slovenia Our hotels in Slovenia B&B Hotel Ljubljana Park Netherlands Back to Netherlands Our best destinations B&B Hotel Amsterdam-Zaandam All our hotels in Netherlands Hungary Back to Hungary Our best destinations B&B Hotel Budapest City All our hotels in Hungary Back to Our hotels Loyalty program Professionals and groups Back to Professionals and groups Business Travellers Back to Business Travellers Corporate Agreements Groups & Travel Agencies Back to Groups & Travel Agencies Travel Agencies Agreements Groups & Events Organization Back to Professionals and groups Our company Back to Our company Who are we Back to Who are we Welcome to B&B Hotels! Corporate Social Responsibility (CSR) Back to Corporate Social Responsibility (CSR) Environment Social Responsibility Governance Back to Our company Help and contact  Country and language       English  Country       Other countries      Belgique/België      Brasil      Česká republika      Deutschland      España      France      Italia      Magyarország      Nederland      Polska      Portugal      Slovenija      Suisse/Schweiz      Österreich      Other countries  Language  English Español English Français Deutsch Italiano Português Polski Česky Nederlands Slovenščina Magyar Currency  EUR  BRL  CHF  CNY  CZK  EUR  GBP  HUF  JPY  MAD  PLN  USD    My account     Book now         France Looking for freedom? Discover our HAPPY [week] END offer !  Book now         Italy   Book a room       WINTER PROMOTION ❄️  Book a room   Book       Spain ​​​​​​​New hotel in Malaga Enjoy its excellent location In the heart of the city centre and close to the beach  Book  Prev  Next  Please fill in the destination field There are no suggestions Please select period for 20 days max Start date cannot be set in the past.  Please select period for 20 days max Start date cannot be set in the past. From To Rooms - + + Add another room Validate  For travelers with corporate contract Enter your code here:    Find a hotel around me      Find a hotel on the map   Location Please allow the use of your position  Services    Certified customer reviews     Hotels with parking     Best guaranteed prices     All you can eat breakfast     Free Wi-Fi    Our hotels in Europe and in the world   Prev  Next   Image  Welcome to France 319 hotels  Discover   Image  Welcome to Germany 151 hotels  Discover   Image  Welcome to Italy 53 hotels  Discover   Image  Welcome to Spain 39 hotels  Discover   Image  Welcome in Poland 8 hotels  Discover   Image  Welcome to Portugal 7 hotels  Discover   Image  Welcome to Switzerland 7 hotels  Discover     Prev  Next   Image  Welcome to Brazil! 6 hotels  Discover   Image  Welcome to Austria 7 hotels  Discover   Image  Welcome to Belgium 5 hotels  Discover   Image  Welcome to Czech Republic 1 hotel  Discover   Image  Welcome to B&B Hotels in Slovenia 1 hotel  Discover   Image  Welcome to Hungary 1 hotel  Discover   Image  Welcome to the Netherlands 1 hotel  Discover   Our offers and promotions   Prev  Next  Safety for everyone At B&B Hotels we are working to adapt to the current situation and offer you maximum security. We are taking all the necessary measures so that anyone can travel with peace of mind and enjoy a safe stay in our hotels.  More information           B&B HOTELS Winners 2021 Pet-Friendly Welcome to our warm, attractive hotels, accessible to all ... even your pets! This is the #onlyforeveryone philosophy!  Know more           B&B HOTELS CLUB Become a B&B HOTELS CLUB member and enjoy many advantages for only 39 €!  B&B HOTELS CLUB           Our news   Prev  Next              Portugal Braga, the best European destination in 2021 The city of Braga has been chosen as the best European destination to visit in 2021, through the \"European Best Destinations\" initiative that promotes culture and tourism in Europe. Are you curious to visit this destination? Book in our B&B Hotel Braga Lamaçães. We are waiting for you !  Book              Spain Design body dryer As a novelty, we have incorporated body dryers in B&B Hotel Madrid Puerta del Sol. Every time you use this body dryer, avoiding the use of a towel to dry your body, 70 litres of water are saved and no longer polluted. In addition, the use of detergents is avoided and 0.55 kg less CO2 is emitted. Would you like to try it? We look forward to seeing you!  Book              Spain Gluten free breakfast We think of every customer. For this reason, we have reached an agreement with the Associació Celíacs de Catalunya, which certifies that we offer gluten-free products in our breakfast buffet.  More info            Spain Book by hours! Why pay more when you can pay only for the hours you stay? At B&B Hotels Spain we want to take care of each and every one of our customers. Many of you are interested in booking our rooms by hours. That's why we are offering micro-stays of up to 6 hours. If you want more information, contact us calling +34 900 533 147. What a great deal, isn't it?              Portugal Renew your mattress with B&B Many of you told us how comfortable our mattresses are and now you can buy them!  We care about your health and we know how important it is for you to sleep well. Ask at reception how you can buy your mattress and our supplier will deliver it to your home. Enjoy the best rest!  More info   Our new B&B Hotels   Prev  Next              Spain New hotels in Spain We are proud to continue with our expansion project and to keep adding new openings. We currently have more than 35 hotels in Spain, and all of them offer excellent value for money, which is why millions of guests choose us as their preferred option.  New B&B Hotels in Spain              Italy 4 new hotels in Milan Find out more about our 4 new hotels in Milan! Strategically located, you'll have no trouble choosing the one that's right for you.  Find out more              Portugal New hotels in Portugal We are proud to continue with our expansion project and to keep adding new openings. We currently have more than 5 hotels in Portugal, and all of them offer excellent value for money, which is why millions of guests choose us as their preferred option.  New hotels in Portugal              France New hotels in France You are looking for a hotel in France, discover now our selection of new destinations with comfortable hotels at very low prices and everywhere in France!  New B&B Hotels in France    Language and currency       English  Country       Other countries      Belgique/België      Brasil      Česká republika      Deutschland      España      France      Italia      Magyarország      Nederland      Polska      Portugal      Slovenija      Suisse/Schweiz      Österreich      Other countries  Language  English Español English Français Deutsch Italiano Português Polski Česky Nederlands Slovenščina Magyar Currency  BRL CHF CNY CZK EUR GBP HUF JPY MAD PLN USD  Stay informed  Subscribe to our newsletter Legal mentions  General terms and conditions of sale  General terms of use  General terms and conditions - B&B HOTELS CLUB  Privacy policy  Cookies policy  Imprint Assistance  Contacts  Contact form  Sitemap Réservez votre hôtel en mobilité       B&B Hotels Worldwide  France  Germany  Italy  Spain  Portugal  Czech Republic  Switzerland  Austria  Belgium  Slovenia  Brazil  Poland  Netherlands  Hungary   © All rights reserved B&B Hotels 2022 Subscribe to our newsletter First name* Last name* First name* Please enter your first name Last name* Please enter your last name E-mail address* Email* Please enter your email address Invalid email address. I agree to receive news and commercial offers from B&B Hotels via email and other means. Subscription checkbox is required By ticking this box, I acknowledge having read the Privacy Policy , and I accept it. Subscription checkbox is required  Log in  New client ? Click here My account  My account & login settings  My bookings  Log in          -10% on room and breakfast    -5% more on special offers    60 € free from 10 nights    subscribe for only 39€  Need help? Help and contact\n",
            "pas fr (ou vide) :  http://oustaou.com oustaou.com       This domain name has been registered with Gandi.net View the WHOIS data for oustaou.com to see the domain's public registration information. oustaou.com is registered Want your own domain name? Learn more about the domain name extensions we manage Find a domain name similar to oustaou.com Gandi.net Register Domain Names Transfer Domain Names SSL Certificates Web Hosting Cloud News Help  \n",
            "pas fr (ou vide) :  http://hotelmed.info 403 Forbidden  Forbidden  You don't have permission to access this resource. \n",
            "pas fr (ou vide) :  http://booking.com  Booking.com | Official site | The best hotels, flights, car rentals & accommodations                                                                                               Skip to main content                  USD  Choose your currency. Your current currency is U.S. Dollar           Choose your language. Your current language is English (US)      Select your language       Suggested for you                English (UK)             Español             简体中文             Русский                 日本語               All languages                English (UK)             English (US)                  Deutsch             Nederlands                 Français             Español             Español (AR)             Español (MX)                 Català             Italiano             Português (PT)             Português (BR)                 Norsk             Suomi             Svenska             Dansk                 Čeština             Magyar             Română             日本語                 简体中文             繁體中文             Polski             Ελληνικά                 Русский             Türkçe             Български             العربية                 한국어             עברית             Latviski             Українська                 Bahasa Indonesia             Bahasa Malaysia             ภาษาไทย             Eesti                 Hrvatski             Lietuvių             Slovenčina             Srpski                 Slovenščina             Tiếng Việt             Filipino             Íslenska                           Get help with your reservation        List your property      Register       Sign in            Stays        Flights        Flight + Hotel        Car rentals        Attractions        Airport taxis             Find deals for any season   From cozy bed & breakfasts to luxury hotels                              Type your destination         Error: Enter a destination to start searching.     Try searching for...   Pyla  La Trinité  Les Anses-dʼArlets                +                         Check-in               +                         Check-out                            Rooms and occupancy   2 adults  · 0 children   · 1 room            Adults      −   2   +   2 Adults        Children  Ages 0 – 17      −   0   +   0 Children         Rooms      −   1   +   1 Rooms              Search          I'm looking for an entire home or apartment     I'm traveling for work     Your results will be shown on the map.                                    Get the advice you need. Check the latest COVID-19 restrictions before you travel. Learn more              Discover Early 2022 Deals  Kick off your new-year travels with 15% off stays   Find deals                     Subscribe to see Secret Deals  Prices drop the second you sign up!                   Sign me up!      Error: Please enter a valid email address.    Error: Oops! An error has occurred.   Thanks! We've sent you an email so you can confirm your subscription              Browse by property type           Hotels   834,967 hotels            Apartments   748,623 apartments            Resorts   17,163 resorts            Villas   384,534 villas            Cabins   31,711 cabins            Cottages   132,404 cottages            Glamping   9,652 Glamping Sites            Serviced Apartments   30,673 serviced apartments            Vacation Homes   384,534 vacation homes            Guest houses   94,218 guest houses            Hostels   16,345 hostels            Motels   12,881 motels            B&Bs   182,129 B&Bs            Ryokans   2,080 ryokans            Riads   1,013 riads            Resort Villages   5,113 resort villages            Homestays   123,782 homestays            Campgrounds   6,822 campgrounds            Country Houses   11,078 country houses            Farm Stays   9,193 farm stays            Boats   1,168 boats            Luxury Tents   3,114 luxury tents            Self-catering Accommodations   665,142 Self-catering Properties            Tiny houses   373 tiny houses                     Connect with other travelers           United States of America  Travel community  763,218 travelers           Travel Talk  General discussion  559,436 travelers           More communities  View all  10,103,767 travelers                  Explore United States of America  These popular destinations have a lot to offer            Las Vegas  574 properties             Miami Beach  718 properties             Orlando  3,684 properties             New York  1,382 properties             Myrtle Beach  2,642 properties             Los Angeles  1,714 properties             Miami  1,354 properties             Gatlinburg  950 properties             New Orleans  753 properties             Atlanta  920 properties                  Recommended destinations           Pyla   57 properties               La Trinité   94 properties                 Les Anses-dʼArlets   62 properties               Pointe-Noire   78 properties               Vejers Strand   58 properties           Get inspiration for your next trip       Best Coffee Cities in the US  The best cities to visit to get your caffeine fix.        Las Vegas Beyond the Casinos  Sin City isn't just casinos and neon, it's full of surprising, alternative attractions.        5 soulful yoga retreat destinations  Take your vinyasa on vacation at these dreamy yoga stays around the world.        Destination Inspiration: San Juan, Puerto Rico  Revel in the eclectic energy of this centuries-old Caribbean capital.        7 unmissable hot air balloon rides  We found seven of the best locations to go up, up, and away.       More than just hotels... Bookers discover pure comfort with homes, apartments, and more        Villa Rock  Barcelona  Starting from $773    9.3   Awesome  18 reviews            Hyde Park Residence  London  Starting from $2,518    9.7   Exceptional  8 reviews            Flora Chiado Apartments  Lisbon  Starting from $271    9.8   Exceptional  194 reviews            The Old Town Square & Parizska Apartments  Prague  Starting from $108    9.7   Exceptional  429 reviews            Luxury Apartment by Hi5 - Budapest Broadway  Budapest  Starting from $45    8.4   Very Good  65 reviews                              Destinations Bookers love      Regions      Cities      Places of interest        Tenerife  9,609 properties    Ras Al Khaimah  113 properties    Bali  12,684 properties    Phuket Province  5,498 properties    Cornwall  5,280 properties    Texel  414 properties    Bihar  763 properties    Mykonos  1,452 properties    Ibiza  1,641 properties    Uttar Pradesh  4,378 properties    Santorini  1,763 properties    Zanzibar  839 properties    Hawaii  5,532 properties    Isle of Wight  935 properties    England  74,085 properties    Jersey  89 properties    Bora Bora  59 properties    Lake District  2,406 properties    Guernsey  61 properties           Dittishausen, Germany    44 vacation rentals , 23 apartments , 21 villas , 21 vacation homes      Rankwitz, Germany    22 vacation rentals , 17 vacation homes , 17 villas , 5 apartments      Vester Sømarken, Denmark    38 vacation homes , 38 villas , 38 vacation rentals        Pruchten, Germany    17 vacation rentals , 12 apartments , 5 villas , 5 vacation homes      Mácher, Spain    48 vacation rentals , 32 villas , 32 vacation homes , 22 cottages , 15 apartments      Sirkka, Finland    111 vacation rentals , 103 vacation homes , 103 villas , 5 cottages , 4 apartments        Bangkok   4041 hotels      York   827 hotels      Newcastle upon Tyne   387 hotels      Manchester   1087 hotels        London   14500 hotels      Liverpool   1079 hotels      Leeds   383 hotels      Glasgow   915 hotels        Edinburgh   3343 hotels      Carbis Bay   68 hotels      Brighton & Hove   854 hotels      Bournemouth   403 hotels        Blackpool   896 hotels      Birmingham   1007 hotels      Stockholm   435 hotels      Manila   4796 hotels        Kuala Lumpur   4224 hotels      Amsterdam   1890 hotels      New Delhi   2907 hotels      Mumbai   1651 hotels        Berlin   1748 hotels      Sydney   3622 hotels      Perth   887 hotels      Melbourne   2831 hotels        Gold Coast   1574 hotels      Canberra   184 hotels      Brisbane   893 hotels      Adelaide   416 hotels        Wellington   164 hotels      Auckland   1682 hotels      Killarney   263 hotels      Galway   404 hotels        Dublin   1220 hotels      Cork   138 hotels      Paris   7553 hotels      Hong Kong   812 hotels        Doha   160 hotels      Ras al Khaimah   113 hotels      Dubai   4280 hotels      Fujairah   22 hotels        Ajman   81 hotels      Abu Dhabi   169 hotels      Istanbul   4209 hotels      Seoul   2304 hotels        Vancouver   626 hotels      Toronto   2029 hotels      Ottawa   240 hotels      Niagara Falls   253 hotels        Montreal   1118 hotels      Kelowna   214 hotels      Jasper   55 hotels      Edmonton   274 hotels        Canmore   149 hotels      Banff   50 hotels      Barcelona   3302 hotels      Tokyo   5652 hotels        Singapore   806 hotels      Whistler   332 hotels      Rotorua   279 hotels      Queenstown   823 hotels                   River Walk  670 properties    Burj Al Arab Tower  4,280 properties    Disneyland Paris  7,553 properties    The Shard  14,500 properties    Guadalupe River Tubing  327 properties    Kalahari Waterpark  43 properties    State Park  21 properties    Al Maha Wildlife Reserve  1 property    O2 Arena  14,500 properties    Eiffel Tower  7,553 properties    Portmeirion  9 properties    Niagara Falls State Park  75 properties    Comal River Tubing  327 properties    Disneyland  247 properties    Ocean City Boardwalk  766 properties    Times Square  1,381 properties    Heathrow Terminal 2    Universal Studios Orlando  3,684 properties    Wembley Stadium  14,500 properties    Heathrow Terminal 5  62 properties                          Save time, save money!   Sign up and we'll send the best deals to you    Enter your email address and we'll send you our best deals    Subscribe    Send me a link to get the FREE Booking.com app!     Error: Please enter a valid email address.    Error: Oops! An error has occurred.   Thanks! We've sent you an email so you can confirm your subscription                 List your property          Mobile version    Your account    Make changes online to your booking     Contact Customer Service     Become an affiliate     Booking.com for Business             Countries    Regions    Cities    Districts    Airports    Hotels    Places of interest        Homes    Apartments    Resorts    Villas    Hostels    B&Bs    Guest houses        Unique places to stay    All destinations    Discover    Reviews    Unpacked: Travel articles    Travel communities    Seasonal and holiday deals        Car rental    Flight finder    Restaurant reservations    Booking.com for Travel Agents        Coronavirus (COVID-19) FAQs    About Booking.com     Contact Customer Service    Partner help    Careers    Sustainability    Press center    Safety Resource Center    Investor relations    Terms & conditions    Dispute resolution    Privacy & cookie statement    Corporate contact         Extranet login     Copyright © 1996–2022 Booking.com™. All rights reserved.          Booking.com is part of Booking Holdings Inc., the world leader in online travel and related services.                            Start of dialog content   Verified reviews from real guests.  We have more than 70 million property reviews, all from real, verified guests .     How does it work?      1     It starts with a booking  It starts with a booking  The only way to leave a review is to first make a booking. That's how we know our reviews come from real guests who have stayed at the property.         2     Followed by a trip  Followed by a trip  When guests stay at the property, they check out how quiet the room is, how friendly the staff is, and more.         3     And finally, a review  And finally, a review  After their trip, guests tell us about their stay. We check for naughty words and verify the authenticity of all guest reviews before adding them to our site.      If you booked through us and want to leave a review, please sign in first.   Sign in and leave a review   End of dialog content   Check-in date  Check-out date    «                                    »      Su  Mo  Tu  We  Th  Fr  Sa                                                     Close calendar           Sign in to continue   Sign in to your account     or use one of these options                          Don't have an account yet? Create your account                         1465900,1465870,1465960,1475830,1473660|1,1465740,1465740|3,1465890,1465910,1473660,1465880,1465930,1465740|7,1469610,1464770,1478510,1465940,1465970,1465920,1464300,1465740|1,1470480,1475480\n",
            "pas fr (ou vide) :  http://ledongiovanni.com Le Don Giovannni | Holiday Rental Carqueiranne | Provence                                                                                              The Don Giovanni  ​  Vacation rental  in Carqueiranne in the Var, south of France EN EN FR Réserver Home Details & Pictures Activities Access Reviews Rates & Availabilities Contact Plus... Use tab to navigate through the menu items. The Don Giovanni is a comfortable 32m2 holiday rental studio for 4 people (3 adults or 2 adults and 1 or 2 children) , fully furnished, equipped and decorated with care.  Thanks to its ideal location, a stone's throw from the port, the beaches and the village of Carqueiranne, you can fully enjoy your holidays on foot and leave your vehicle in the private and secure location. Wifi gratuit Parking privatif gratuit Climatisation réversible Linge de maison fourni T.V. 2 Chiliennes Plage à 500M Four micro-onde Espace bureau Lave linge Machine à café Grille-pain Ménage (en option) Bouilloire Hors de la galerie Tourism Office The Don Giovanni is on official Tourism websites www.visitvar.com , www.hyeres-tourisme.com ,  www.carqueiranne.fr p35 and www.ancv.com  Holiday  Rental   3* The classification in Meublé de Tourisme aims to give you a level of comfort.  The Don Giovanni  was awarded 3 stars in 2016. You are assured of a comfortable and well equipped accommodation.  ​ Booking Platforms © Copyright Check out reviews of The Don Giovanni from the most famous booking platform : www.airbnb.com Fully Furnished Fully furnished and equipped, leave with peace of mind. Bed sheets, bath towels and kitchen towels are provided free of charge.  ​ Ideal  Location Ideally located close to the port, beaches and shops, park your vehicle in its privative and secure location for all your stay, and enjoy your holidays on foot.  ​ Carqueiranne Located in the Gulf of Giens between Toulon and Hyères, Carqueiranne is a small Provençal port of the Var coast. There are many reasons to stay in this village : beaches, relaxation, water sports, local gastronomy... From  2019 Since 2019, le Don Giovanni is furnished with green & local electricity. Réserver © 2016 - 2021 par Le Don Giovanni  All rights reserved Booking by phone : ​  +33 (0)6 77 66 68 81 © Copyright Fi nd us             \n",
            "pas fr (ou vide) :  http://hotel-brise-marine.com 403 Forbidden    403 Forbidden  nginx  \n",
            "pas fr (ou vide) :  http://gite-rural-hyeres.com 403 Forbidden  Forbidden  You don't have permission to access this resource.  Additionally, a 403 Forbidden error was encountered while trying to use an ErrorDocument to handle the request. \n",
            "pas fr (ou vide) :  http://residenceatlantis.fr \n",
            "pas fr (ou vide) :  http://camping-les-joseph.fr Site not installed       Site not installed    The site is not yet installed. [  configuration guide  ]  If it has just been created, please wait 15 minutes.       You  Internet browser     Web host  OVHcloud     Website  Site access        IP address : 35.233.215.47  Date :   Request ID: a02f91911925143da8acc29d9dec8476     Do you need assistance or information?     Guides     FAQ     Forum     Contact     Control Panel   OVHcloud Webhosting      \n",
            "pas fr (ou vide) :  http://grand-tour-ecrins.fr      \n",
            "pas fr (ou vide) :  http://clubkayaklepradet.fr 403 Forbidden    403 Forbidden  nginx  \n",
            "pas fr (ou vide) :  http://lacledutemps.fr Escape Game à Hyères Les Palmiers - La cle du temps       Aller au contenu              LES SALLES  RESERVEZ  BONS CADEAUX  TARIFS  CONTACT  AVIS  tripadvisor  facebook  instagram                           Déplier la navigation                    Déplier la navigation        LES SALLES  RESERVEZ  BONS CADEAUX  TARIFS  CONTACT  AVIS  tripadvisor  facebook  instagram                                     LES SALLES                                        LE CASSE DU CASSE               Arriverez vous à vous infiltrer dans la planque des plus grands braqueurs du monde sans vous faire repérer afin de vous emparer de leur butin …?  Vous aurez 60 minutes pour mener à bien votre mission. Le Casse du Casse, un scénario prenant par La Clé du temps, votre Escape Game à Hyères          En savoir plus                             HOSTEL               Retrouvez vous enfermé dans un hôtel pas comme les autres … pour vivre une expérience terrifiante Serez vous assez courageux pour tenter l'expérience Hostel ? Le premier véritable Escape Game d'horreur dans le Var (déconseillé aux moins de 16 ans non accompagnés)          En savoir plus                                                             TARIFS                    25€ par personne                  Réservez          *tarif valable à partir de 3 joueurs                    Bons cadeaux disponibles de 1 à 6 joueurs        Offrez à vos proche un moment inoubliable, offrez leur un Escape Game avec les bons cadeaux La Clé du Temps. Bons cadeaux allant de 1 à 6 joueurs          Découvrir                                               CONTACT            Horaires & informations 4 avenue, rue du Soldat Bellon Antoine 83400 HYÈRES 06.16.19.28.24 contact@lacledutemps.fr Hors vacances scolaires : Du Jeudi au dimanche de 13h30 - 00h  Vacances scolaire : DU Lundi au Dimanche de 13h30-00h                                 Votre nom (obligatoire)    Votre email (obligatoire)    Votre demande                                             CGV  MENTIONS LEGALES  FAQ  Escape Game à Toulon  Escape Game La Garde  Escape game La Farlède  Escape Game La Crau  Escape game à La Londe les Maures  Nos partenaires              Ce site utilise des cookies pour améliorer votre expérience. Nous supposerons que cela vous convient, mais vous pouvez vous désabonner si vous le souhaitez. Accepter  En savoir plus En savoir plus      Fermer        Privacy Overview   This website uses cookies to improve your experience while you navigate through the website. Out of these, the cookies that are categorized as necessary are stored on your browser as they are essential for the working of basic functionalities of the website. We also use third-party cookies that help us analyze and understand how you use this website. These cookies will be stored in your browser only with your consent. You also have the option to opt-out of these cookies. But opting out of some of these cookies may affect your browsing experience.         Necessary    Necessary   Toujours activé     Necessary cookies are absolutely essential for the website to function properly. This category only includes cookies that ensures basic functionalities and security features of the website. These cookies do not store any personal information.       Non-necessary    Non-necessary      Any cookies that may not be particularly necessary for the website to function and is used specifically to collect user personal data via analytics, ads, other embedded contents are termed as non-necessary cookies. It is mandatory to procure user consent prior to running these cookies on your website.              Enregistrer & accepter                                \n",
            "pas fr (ou vide) :  http://lespritvitrail.com 403 Forbidden  Forbidden  You don't have permission to access this resource. \n",
            "pas fr (ou vide) :  http://le-cabrol.com                       Error ConnectYourDomain occurred   Regardless, we recommend you to update your browser.       \n",
            "pas fr (ou vide) :  http://restaurant-la-jeannette.com 403 Forbidden    403 Forbidden  nginx  \n",
            "pas fr (ou vide) :  http://ansedeportcros.com L'Anse de Port Cros                   VERSION CLASSIQUE    VERSION MOBILE                \n",
            "pas fr (ou vide) :  http://brasserie-des-iles.com 403 Forbidden  Forbidden  You don't have permission to access this resource. \n",
            "pas fr (ou vide) :  http://planb-hyeres.com Restaurant | Plan B | Hyères France                                                                                            PLAN B © MENU xml version=\"1.0\" encoding=\"UTF-8\"?        xml version=\"1.0\" encoding=\"UTF-8\"?        PLAN B © 0 UNE CUISINE DE PARTAGE ❤️ À LA MAISON - OU AU BUREAU  À RETOUVER EN CLICK& COLLECT  OU SUR UBEREATS . VINS      CARTE      UNE CUISINE DE PARTAGE ❤️                 CUSINE  MAISON CAR ICI TOUT EST FAIT AVEC LE ❤️ RETROUVEZ NOTRE CARTE !  xml version=\"1.0\" encoding=\"UTF-8\"?            CHEESE NON CE N'EST PAS LA CARTE DES 🧀 RETROUVEZ NOTRE INSTAGRAM ! Instagram UberEats Boutique Avis Facebook Instagram Tapas 860 Avenue de l'Aéroport  83400 Hyères (France)  ​  T (+33) 04 94 61 15 70  planb.artcafe@gmail.com  ​ Plan B  © 2020             \n",
            "pas fr (ou vide) :  http://iucn.org 403 Forbidden    Error 403 Forbidden  Forbidden  Guru Meditation:  XID: 317619567   Varnish cache server  \n",
            "pas fr (ou vide) :  http://fondationcarmignac.com \n",
            "pas fr (ou vide) :  http://govirtuo.com  Loading...\n",
            "pas fr (ou vide) :  http://rosalies-hyeres.com 404 Not Found    404 Not Found  nginx  \n",
            "pas fr (ou vide) :  http://plaisance-location-bateau-hyeres.com Home Page 02 - Inox Meca Plaisance                                                                                                                        Téléphone  06.24.46.30.20                     Accueil  la flotte  Idées de destinations  Chantier Naval  Adresse / Contact / Informations                                                                                 Inox Meca Plaisance Location de bateaux Port d'Hyères  Location de Bateaux Semi-rigide & Rigide  Large gamme de bateaux   Voir plus          Inox Meca Plaisance Location de Bateaux Port d'Hyères  Location de Bateaux Semi-rigide & Rigide  Large gamme de bateaux   Voir plus          Inox Meca Plaisance Location de Bateaux Port d'Hyères  Location de Bateaux Semi-rigide & Rigide  Large gamme de bateaux   Voir plus                    Votre   Bateaux sur mesure         Il existe de nombreux bateaux, avec des configurations différentes.  Voir plus           En famille ou en groupe d'amis  01     Choisissez votre bateau  02     Choisissez votre destination  03     Naviguez, vous êtes prêt à en profiter  04                            Bateaux Année 2021  Bateaux à la Location           €0.00  Journée     JOKER BOAT WIDE 620 (semi-rigide)  Port de Hyères    6.20 m  8 Places             €0.00  Journée     QUICKSILVER 635 OPEN  Port de Hyères    6.35 m  7 Personnes             €0.00  Journée     JOKER BOAT CLUBMAN 23 (semi-rigide)  Port de Hyères    6.98 m  10 Places             €390.00  Journée     JOKER BOAT WIDE 700 (semi-rigide)  Port de Hyères    7.00 m  10 Places             €0.00  Journée     CAPELLI TEMPEST 700  Port de Hyères    7.00 m  10 places             €0.00  Journée     MASTER 770 (semi-rigide)  Port de Hyères    7.70 m  12 Places                Voir Plus de bateaux                                 Porquerolles                   Ports Cros                   île du Levant                îles d'Hyères   Destinations                        Actualités          inoxmeca  0 comments      06 Juil, 2019   Louer un bateau moteur avec permis pour visiter Port-Cros   Avec la société de location bateaux INOX MECA PLAISANCE, située sur le port de Hyères dans le VAR entre Toulon et la Londe les Maures, louer un bateau à Hyères les Palmiers pour visiter Port-Cros, parc national avec un bateau de location semi-rigide JOKER BOAT 700 Wide pour 10 personnes. Un bateau idéal pour une […]            inoxmeca  0 comments      22 Juin, 2019   Location de bateau moteur a la journee au depart du port de Hyeres Les Palmiers   Aujourd'hui, location de bateau sur le port de Hyères les Palmiers dans le Var. Le thermomètre est au beau fixe il va faire chaud. Louer sur le port de Hyères un semi-rigide ou une coque open avec une bouée ou un wake. Il est annoncé grand soleil sur la méditerranée, les îles de Porquerolles et […]            inoxmeca  0 comments      20 Juin, 2019   Location semi rigide a Hyeres pour 8 personnes   Nous sommes enfin arrivés dans le sud de la France Var à notre agence de bateaux de location sur le port de Hyères les Palmiers. Notre navigation s'annonce féerique. Nous nous rendons à notre agence de location préférée INOX MECA PLAISANCE où nous louons chaque année sur le port Saint Pierre de Hyères, ou nous […]                                Abonnez-vous à notre Newsletter             Veuillez laisser ce champ vide E-mail *  J'au lu et j'accepte la politique de confidentialité de ce site * Cocher la case  Vous acceotez de recevoir nos dernières propositions * Cocher la case    Vérifiez votre boîte de réception afin de confirmer votre abonnement.             METEO     https://www.my-meteo.com          LIENS UTILES   Office de tourisme Hyères  Port de Hyères     Informations Légales         INOX MECA PLAISANCE           14, Avenue du Docteur Robin 83400 Hyères (le port)  inoxmecaplaisance@wanadoo.fr  fixe: 04.94.66.02.35 Mob: 06.24.46.30.20                © Copyright 2021 by Inox Meca Plaisance      Nous utilisons des cookies sur notre site Web pour vous offrir l'expérience la plus pertinente en mémorisant vos préférences et les visites répétées. En cliquant sur «Accepter», vous consentez à l'utilisation de TOUS les cookies. Paramètres des cookies Accepter Refuser Manage consent      Fermer        Privacy Overview   This website uses cookies to improve your experience while you navigate through the website. Out of these, the cookies that are categorized as necessary are stored on your browser as they are essential for the working of basic functionalities of the website. We also use third-party cookies that help us analyze and understand how you use this website. These cookies will be stored in your browser only with your consent. You also have the option to opt-out of these cookies. But opting out of some of these cookies may affect your browsing experience.         Necessary    Necessary   Toujours activé     Necessary cookies are absolutely essential for the website to function properly. These cookies ensure basic functionalities and security features of the website, anonymously. Cookie Durée Description cookielawinfo-checbox-analytics 11 months This cookie is set by GDPR Cookie Consent plugin. The cookie is used to store the user consent for the cookies in the category \"Analytics\". cookielawinfo-checbox-functional 11 months The cookie is set by GDPR cookie consent to record the user consent for the cookies in the category \"Functional\". cookielawinfo-checbox-others 11 months This cookie is set by GDPR Cookie Consent plugin. The cookie is used to store the user consent for the cookies in the category \"Other. cookielawinfo-checkbox-necessary 11 months This cookie is set by GDPR Cookie Consent plugin. The cookies is used to store the user consent for the cookies in the category \"Necessary\". cookielawinfo-checkbox-performance 11 months This cookie is set by GDPR Cookie Consent plugin. The cookie is used to store the user consent for the cookies in the category \"Performance\". viewed_cookie_policy 11 months The cookie is set by the GDPR Cookie Consent plugin and is used to store whether or not user has consented to the use of cookies. It does not store any personal data.        Functional    Functional      Functional cookies help to perform certain functionalities like sharing the content of the website on social media platforms, collect feedbacks, and other third-party features.       Performance    Performance      Performance cookies are used to understand and analyze the key performance indexes of the website which helps in delivering a better user experience for the visitors.       Analytics    Analytics      Analytical cookies are used to understand how visitors interact with the website. These cookies help provide information on metrics the number of visitors, bounce rate, traffic source, etc.       Advertisement    Advertisement      Advertisement cookies are used to provide visitors with relevant ads and marketing campaigns. These cookies track visitors across websites and collect information to provide customized ads.       Others    Others      Other uncategorized cookies are those that are being analyzed and have not been classified into a category as yet.              Enregistrer & appliquer             French    English French German Italian Spanish       \n"
          ]
        }
      ]
    },
    {
      "cell_type": "code",
      "metadata": {
        "id": "nic9UMwKNZv1"
      },
      "source": [
        "fichierDeSortie = stockageSortie + '/Tempo/' +'vires.json'\n",
        "with open (fichierDeSortie, 'w', encoding='utf8') as  fictemp: #on met tous les contenus en json\n",
        "  json.dump(aVirer, fictemp)\n",
        "\n",
        "fichierDeSortie = stockageSortie + '/Tempo/' +'gardes.json'\n",
        "with open (fichierDeSortie, 'w', encoding='utf8') as  fictemp: #on met tous les contenus en json\n",
        "  json.dump(aGarder, fictemp)"
      ],
      "execution_count": null,
      "outputs": []
    },
    {
      "cell_type": "code",
      "metadata": {
        "id": "FLK2ZSmPrbFU"
      },
      "source": [
        "# pour éviter les traitements précédents\n",
        "fichierDeSortie = stockageSortie + '/Tempo/' +'vires.json'\n",
        "with open (fichierDeSortie, 'rb') as  fictemp: #on met tous les contenus en json\n",
        "  aVirer = json.load(fictemp)\n",
        "\n",
        "fichierDeSortie = stockageSortie + '/Tempo/' +'gardes.json'\n",
        "with open (fichierDeSortie, 'rb') as  fictemp: #on met tous les contenus en json\n",
        "  aGarder =json.load(fictemp)"
      ],
      "execution_count": null,
      "outputs": []
    },
    {
      "cell_type": "markdown",
      "metadata": {
        "id": "5RLIASmgz4YZ"
      },
      "source": [
        "# Supression des extrêmes\n"
      ]
    },
    {
      "cell_type": "code",
      "metadata": {
        "id": "F3fR21pFCR0h"
      },
      "source": [
        "aGarderTemp, aVirerTemp = aGarder, aVirer"
      ],
      "execution_count": null,
      "outputs": []
    },
    {
      "cell_type": "code",
      "metadata": {
        "id": "ggjU9RDQkgwe"
      },
      "source": [
        "# Exclusion du PNPC de la représentation des parcs\n",
        "aVirer[\"parcs\"] = \"http://www.portcrosparcnational.fr/\""
      ],
      "execution_count": null,
      "outputs": []
    },
    {
      "cell_type": "code",
      "metadata": {
        "id": "SDhSvXqGw2F-",
        "colab": {
          "base_uri": "https://localhost:8080/",
          "height": 1000
        },
        "outputId": "073453f8-afef-407d-a066-12956c2ae9a0"
      },
      "source": [
        "stats = dict()\n",
        "for ndf in os.listdir(stockageEntree + \"/ContenusSites/\"):\n",
        "  if not ndf.startswith('.')  and \"backlinks\" not in ndf and 'stats' not in ndf and 'Partners'  not in ndf and \"BadUrls\" not in ndf:\n",
        "    fichierEntree = stockageEntree + '/ContenusSites/' + ndf\n",
        "    with open (fichierEntree, 'r', encoding='utf8') as  fictemp: #pour ouvrir les contenus \n",
        "      soup=json.load(fictemp)\n",
        "    ndf = ndf.replace('.json', '')\n",
        "    index = list([url for url in soup.keys() if url not in aVirer[ndf] and url in aGarder[ndf]])\n",
        "\n",
        "    data  = [len(soup[url]) for url in index ]\n",
        "    donnees = pd.DataFrame.from_dict(data)\n",
        "    donnees.index = index\n",
        "    donnees.plot.hist(bins=10, title = ndf)\n",
        "    stats [ndf]  = donnees.describe()\n",
        "\n",
        "\n",
        " # stats contient la description statistique des données fondée sur la taille\n",
        " # de celle-ci. Cette variable servira a exclure les url dont la variation\n",
        " # à la moyenne est trop importante : trop ou pas assez sont considérés comme\n",
        " # des singularités. Cela peut provenir de la forme choisie pour la page (grande\n",
        " # page qui contient \"tout\" avec un ascenceur interminable ou par ex. une page composée\n",
        " # par des appels url en js que le collecteur ne reconstruit pas) "
      ],
      "execution_count": null,
      "outputs": [
        {
          "output_type": "display_data",
          "data": {
            "image/png": "[encoded data removed]",
            "text/plain": [
              "<Figure size 432x288 with 1 Axes>"
            ]
          },
          "metadata": {
            "needs_background": "light"
          }
        },
        {
          "output_type": "display_data",
          "data": {
            "image/png": "[encoded data removed]",
            "text/plain": [
              "<Figure size 432x288 with 1 Axes>"
            ]
          },
          "metadata": {
            "needs_background": "light"
          }
        },
        {
          "output_type": "display_data",
          "data": {
            "image/png": "[encoded data removed]",
            "text/plain": [
              "<Figure size 432x288 with 1 Axes>"
            ]
          },
          "metadata": {
            "needs_background": "light"
          }
        },
        {
          "output_type": "display_data",
          "data": {
            "image/png": "[encoded data removed]",
            "text/plain": [
              "<Figure size 432x288 with 1 Axes>"
            ]
          },
          "metadata": {
            "needs_background": "light"
          }
        },
        {
          "output_type": "display_data",
          "data": {
            "image/png": "[encoded data removed]",
            "text/plain": [
              "<Figure size 432x288 with 1 Axes>"
            ]
          },
          "metadata": {
            "needs_background": "light"
          }
        },
        {
          "output_type": "display_data",
          "data": {
            "image/png": "[encoded data removed]",
            "text/plain": [
              "<Figure size 432x288 with 1 Axes>"
            ]
          },
          "metadata": {
            "needs_background": "light"
          }
        },
        {
          "output_type": "display_data",
          "data": {
            "image/png": "[encoded data removed]",
            "text/plain": [
              "<Figure size 432x288 with 1 Axes>"
            ]
          },
          "metadata": {
            "needs_background": "light"
          }
        },
        {
          "output_type": "display_data",
          "data": {
            "image/png": "[encoded data removed]",
            "text/plain": [
              "<Figure size 432x288 with 1 Axes>"
            ]
          },
          "metadata": {
            "needs_background": "light"
          }
        },
        {
          "output_type": "display_data",
          "data": {
            "image/png": "[encoded data removed]",
            "text/plain": [
              "<Figure size 432x288 with 1 Axes>"
            ]
          },
          "metadata": {
            "needs_background": "light"
          }
        }
      ]
    },
    {
      "cell_type": "code",
      "metadata": {
        "id": "V6eI2HVVEwyP",
        "colab": {
          "base_uri": "https://localhost:8080/"
        },
        "outputId": "67a405b8-a947-439a-a971-5350ad61ef14"
      },
      "source": [
        "stats [ndf][0]['mean']"
      ],
      "execution_count": null,
      "outputs": [
        {
          "output_type": "execute_result",
          "data": {
            "text/plain": [
              "5890.857142857143"
            ]
          },
          "metadata": {},
          "execution_count": 45
        }
      ]
    },
    {
      "cell_type": "code",
      "metadata": {
        "id": "9DJYwEIw3lnH",
        "colab": {
          "base_uri": "https://localhost:8080/"
        },
        "outputId": "7ad2daca-c9f6-4fde-dffb-c4040aa7cfdc"
      },
      "source": [
        "# suppression des extrêmes\n",
        "seuil = 0.95 # plus de deux fois autour de la moyenne pour le max\n",
        "seuilBas = 500 # plancher ARBITRAIRE de 500 caractères au dessus\n",
        "# le code qui suit sert à exclure les extrêmes (taille de collecte) hors zone \n",
        "# entre la valeur moyenne sur la collecte +/- sa valeur valeur multipliée par le seuil\n",
        "# il ne faut pas réitérer la boucle plusieurs fois au risque de voir exclure tout le monde\n",
        "# Si le seuil est modifié il faut ré-exécuter la cellule d'initialisation des statistiques\n",
        "for ndf in os.listdir(stockageEntree + \"/ContenusSites/\"):\n",
        "  if not ndf.startswith('.') and \"backlinks\" not in ndf and \"stats\" not in ndf and 'Partners' not in ndf and \"BadUrls\" not in ndf:\n",
        "    fichierEntree = stockageEntree +  '/ContenusSites/' +ndf\n",
        "    with open (fichierEntree, 'rb') as  fictemp: #pour ouvrir les contenus \n",
        "      soup=json.load(fictemp)\n",
        "    ndf = ndf.replace('.json', '')\n",
        "    if ndf not in aGarder.keys():\n",
        "      aGarder[ndf] = []\n",
        "    if ndf not in aVirer.keys():\n",
        "      aVirer[ndf] = []\n",
        "    for url in soup.keys():\n",
        "      # autour de la moyenne +/- sa valeur divisée par le seuil\n",
        "      if (len(soup[url]) >  seuilBas) and (len(soup[url]) < stats[ndf][0]['mean'] + stats[ndf][0]['mean']//seuil):\n",
        "          # print( len(soup [url]), stats [ndf] [0]['mean']/seuil)\n",
        "          if url not in aGarder[ndf]:\n",
        "            aGarder[ndf].append(url)\n",
        "            if url in aVirer [ndf]:\n",
        "              aVirer[ndf].remove(url)\n",
        "          else:\n",
        "            pass\n",
        "      else:\n",
        "        aVirer[ndf].append(url)\n",
        "        if url in aGarder[ndf]:\n",
        "          aGarder[ndf]. remove (url)\n",
        "    print (ndf, \"  \", stats[ndf][0]['count'], \" exclus \", len(set(aVirer[ndf])))\n",
        "    index = list([url for url in soup.keys() if url not in aVirer[ndf] and url in aGarder[ndf]])\n",
        "\n",
        "    data  = [len(soup[url]) for url in aGarder[ndf] if url not in aVirer[ndf]]\n",
        "    # mise à jour des stats\n",
        "    donnees = pd.DataFrame.from_dict(data)\n",
        "    donnees.index = index\n",
        "    stats [ndf.replace('.json', '')] = donnees.describe()\n"
      ],
      "execution_count": null,
      "outputs": [
        {
          "output_type": "stream",
          "name": "stdout",
          "text": [
            "mairies    7.0  exclus  1\n",
            "Hebergement    105.0  exclus  26\n",
            "Gouv    6.0  exclus  0\n",
            "oTourism    24.0  exclus  2\n",
            "parcs    10.0  exclus  16\n",
            "Services    107.0  exclus  17\n",
            "restauration    33.0  exclus  9\n",
            "organisations    18.0  exclus  3\n",
            "locations    30.0  exclus  6\n"
          ]
        }
      ]
    },
    {
      "cell_type": "code",
      "metadata": {
        "id": "AileYz0TDCFW"
      },
      "source": [
        "stats"
      ],
      "execution_count": null,
      "outputs": []
    },
    {
      "cell_type": "markdown",
      "source": [
        "\n",
        "\n",
        "---\n",
        "\n",
        "Sauvegarde des stats initiales"
      ],
      "metadata": {
        "id": "Aqt5_KPRU2CR"
      }
    },
    {
      "cell_type": "markdown",
      "metadata": {
        "id": "FiYnC_1Gun0Q"
      },
      "source": [
        "\n",
        "\n",
        "---\n",
        "\n"
      ]
    },
    {
      "cell_type": "code",
      "source": [
        "fichierDeSortie = stockageEntree + '/ContenusTraites/stats.json' "
      ],
      "metadata": {
        "id": "27hIHTIpU8M8"
      },
      "execution_count": null,
      "outputs": []
    },
    {
      "cell_type": "code",
      "source": [
        "donnees .to_json(fichierDeSortie)"
      ],
      "metadata": {
        "id": "Ae28j6QyWc6j"
      },
      "execution_count": null,
      "outputs": []
    },
    {
      "cell_type": "markdown",
      "metadata": {
        "id": "Mmgfxx2S_26N"
      },
      "source": [
        "# Traitement des fichiers produits par le scrapper\n",
        "> ndf est le fichier produit par le scapper. On le charge le spacytraite pour visualiser"
      ]
    },
    {
      "cell_type": "code",
      "metadata": {
        "id": "aso9iJ6t7nOy"
      },
      "source": [
        "dicoEtiquettage = dict() # etiquettes par typologie de site\n",
        "aEviter = dict()\n",
        "verbes = dict() #listes à remplir avec verbes/adj/noms/entités trouvés \n",
        "adjectifs  = dict() \n",
        "noms = dict()\n",
        "Etiquette  = dict() # etiquettes par typologie de site Et par site\n",
        "adverbes = dict()\n",
        "tempAdv = dict()"
      ],
      "execution_count": null,
      "outputs": []
    },
    {
      "cell_type": "code",
      "metadata": {
        "id": "Bhmxrx4gM4HT"
      },
      "source": [
        "catGramm = dict()"
      ],
      "execution_count": null,
      "outputs": []
    },
    {
      "cell_type": "code",
      "metadata": {
        "id": "BrZCtm6Hd9KD"
      },
      "source": [
        "  tal = spacy.load('fr_core_news_sm')\n",
        "    # 'fr_dep_news_trf' fonctionne mieux pour l'étiquetagge\n",
        "  tal1 = spacy.load('fr_dep_news_trf', disable = ['tagger', \"ner\"])"
      ],
      "execution_count": null,
      "outputs": []
    },
    {
      "cell_type": "code",
      "metadata": {
        "id": "WZf_otliXd4K",
        "colab": {
          "base_uri": "https://localhost:8080/"
        },
        "outputId": "d8492d40-229e-40b7-b961-0c92c31c4d54"
      },
      "source": [
        "cats = [\"VERB\", \"ADJ\", \"ADV\", \"NOUN\"]\n",
        "Done = list(catGramm .keys())\n",
        "\n",
        "for ndf in os.listdir(stockageEntree + \"/ContenusSites/\"):\n",
        "  fichierEntree = stockageEntree + '/ContenusSites/' + ndf\n",
        "  if (not ndf.startswith('.')) and (ndf not in Done) and (\"backlinks\" not in ndf) and (\"stats\" not in ndf) and ('Partners' not in ndf) and \"BadUrls\" not in ndf and 'pkl' not in ndf:\n",
        "    # chargement des données collectées par le scrapeur\n",
        "    with open (fichierEntree, 'r', encoding='utf8') as  fictemp: #pour ouvrir les contenus \n",
        "      soupe=json.load(fictemp)\n",
        "    ndf = ndf.replace('.json', '')\n",
        "    dicoEtiquettage[ndf], Etiquette [ndf] = dict(), dict()\n",
        "    # nettoyage\n",
        "    tousLesContenus = \"\"\"\"\"\" # une longue chaine qui contiendra tous les contenus des sites de la ndf\n",
        "\n",
        "    for url in aGarder[ndf]:\n",
        "      tousLesContenus = soupe[url] \n",
        "      doc = tal(tousLesContenus)\n",
        "      Etiquette [ndf][url] = dict()\n",
        "        # Si l'environnement n'a pas été redémarré, le code plante ici\n",
        "        #extraction des entités\n",
        "      entites = []\n",
        "      for entity in doc.ents:\n",
        "        if entity.label_ not in Etiquette [ndf][url].keys():\n",
        "          Etiquette [ndf][url][entity.label_] = [entity.text]\n",
        "        else:\n",
        "          Etiquette [ndf][url][entity.label_].append(entity.text)\n",
        "        \n",
        "      if ndf not in aEviter.keys():\n",
        "        aEviter[ndf] = dict()\n",
        "        aEviter[ndf][url] =[]\n",
        "      if url not in aEviter[ndf] .keys():\n",
        "        aEviter[ndf][url] =[]\n",
        "      for catego in ['LOC', 'MISC', 'PER', 'ORG']:\n",
        "        if catego in Etiquette [ndf][url].keys():\n",
        "          aEviter[ndf][url] += Etiquette [ndf][url][catego] # toutes les formes lexicale que l'on esquivera\n",
        "          \n",
        "      # utilisation de l'autre modèle\n",
        "      doc = tal1(tousLesContenus)\n",
        "\n",
        "      machin = [(truc.lemma_, truc.pos_) for truc in doc if truc.text not in aEviter[ndf][url] and truc.text.lower() not in aEviter[ndf][url] and truc.pos_ in cats]\n",
        "      for truc in machin:\n",
        "        if truc[1] in Etiquette [ndf][url] .keys():\n",
        "          Etiquette [ndf][url][truc[1]] .append(truc [0])\n",
        "        else:\n",
        "          Etiquette [ndf][url][truc[1]] = [truc [0]]\n",
        "      \n",
        "    # Assemblage de toutes les mots etiquettés dans dicoEtiquettage\n",
        "    for url in Etiquette [ndf].keys():\n",
        "      for catG in Etiquette [ndf][url].keys():\n",
        "        if catG in dicoEtiquettage[ndf] .keys():\n",
        "          dicoEtiquettage[ndf][catG] .extend (Etiquette [ndf][url][catG])\n",
        "        else:\n",
        "          dicoEtiquettage[ndf][catG] = Etiquette [ndf][url][catG]\n",
        "    # Extraction des lemmes par catégorie grammaticale\n",
        "    catGramm [ndf] = dict()\n",
        "\n",
        "    for cle in dicoEtiquettage[ndf] .keys(): \n",
        "      catGramm [ndf][cle] = Counter(dicoEtiquettage[ndf][cle])\n",
        "    \n",
        "    Done.append(ndf)"
      ],
      "execution_count": null,
      "outputs": [
        {
          "output_type": "stream",
          "name": "stderr",
          "text": [
            "Token indices sequence length is longer than the specified maximum sequence length for this model (838 > 512). Running this sequence through the model will result in indexing errors\n"
          ]
        }
      ]
    },
    {
      "cell_type": "code",
      "metadata": {
        "id": "4DIkv8n-KgFz"
      },
      "source": [
        "for ndf in Etiquette.keys():\n",
        "  if ndf not in verbes.keys():\n",
        "    verbes[ndf] = []      \n",
        "  if ndf not in adjectifs.keys():\n",
        "    adjectifs[ndf] = []\n",
        "  if ndf not in noms.keys():\n",
        "    noms[ndf] = []       \n",
        "  if ndf not in adverbes.keys(): #ADVERBES\n",
        "    adverbes[ndf] = []\n",
        "  for url in Etiquette [ndf] .keys():\n",
        "    if \"VERB\" in Etiquette [ndf][url] .keys(): \n",
        "      verbes[ndf] +=Etiquette [ndf][url][\"VERB\"]\n",
        "    if \"NOUN\" in Etiquette [ndf][url] .keys():\n",
        "      noms[ndf] += Etiquette [ndf][url][\"NOUN\"]\n",
        "    if \"ADV\" in Etiquette [ndf][url] .keys():\n",
        "      adverbes[ndf] += Etiquette [ndf][url][\"ADV\"]\n",
        "    if \"ADJ\" in Etiquette [ndf][url] .keys():\n",
        "      adjectifs[ndf] += Etiquette [ndf][url][\"ADJ\"]"
      ],
      "execution_count": null,
      "outputs": []
    },
    {
      "cell_type": "code",
      "metadata": {
        "colab": {
          "base_uri": "https://localhost:8080/"
        },
        "id": "Zfprh99LlyrI",
        "outputId": "480d0aeb-bd21-402f-846d-ad1cfe932361"
      },
      "source": [
        "catGramm .keys()"
      ],
      "execution_count": null,
      "outputs": [
        {
          "output_type": "execute_result",
          "data": {
            "text/plain": [
              "dict_keys(['Gouv', 'parcs', 'organisations', 'oTourism', 'Services', 'Hebergement', 'restauration', 'locations', 'mairies'])"
            ]
          },
          "metadata": {},
          "execution_count": 55
        }
      ]
    },
    {
      "cell_type": "code",
      "metadata": {
        "id": "lkNxYnLdMv4n"
      },
      "source": [
        "fichierDeSortie = stockageSortie + '/ContenusTraites/' +\"verbesSites.json\"\n",
        "with open (fichierDeSortie, 'w', encoding='utf8') as  fictemp: #on met tous les contenus dans un json\n",
        "  json.dump(verbes, fictemp)\n",
        "\n",
        "fichierDeSortie = stockageSortie + '/ContenusTraites/' +'nomsSites.json'\n",
        "with open (fichierDeSortie, 'w', encoding='utf8') as  fictemp: #on met tous les contenus dans un json\n",
        "  json.dump(noms, fictemp)\n",
        "\n",
        "fichierDeSortie = stockageSortie + '/ContenusTraites/' +'adjectifsSites.json'\n",
        "with open (fichierDeSortie, 'w', encoding='utf8') as  fictemp: #on met tous les contenus dans un json\n",
        "  json.dump(adjectifs, fictemp)\n",
        "\n",
        "fichierDeSortie = stockageSortie + '/ContenusTraites/' +'adverbesSites.json'\n",
        "with open (fichierDeSortie, 'w', encoding='utf8') as  fictemp: #on met tous les contenus dans un json\n",
        "  json.dump(adverbes, fictemp)"
      ],
      "execution_count": null,
      "outputs": []
    },
    {
      "cell_type": "code",
      "metadata": {
        "id": "neRAwQhmHZs-"
      },
      "source": [
        "fichierDeSortie = stockageSortie + '/ContenusTraites/' +'Etiquettes.json'\n",
        "with open (fichierDeSortie, 'w', encoding='utf8') as  fictemp: #on met tous les contenus dans un json\n",
        "  json.dump(Etiquette, fictemp)"
      ],
      "execution_count": null,
      "outputs": []
    },
    {
      "cell_type": "code",
      "metadata": {
        "id": "e6jPBoiX0BIQ"
      },
      "source": [
        "fichierDeSortie = stockageSortie + '/ContenusTraites/' +'spacySites.json'\n",
        "with open (fichierDeSortie, 'w', encoding='utf8') as  fictemp: #on met tous les contenus dans un json (redondant avec le précédent)\n",
        "  json.dump(dicoEtiquettage, fictemp)"
      ],
      "execution_count": null,
      "outputs": []
    },
    {
      "cell_type": "code",
      "metadata": {
        "id": "vP1Pn7FFno0A"
      },
      "source": [
        "fichierDeSortie = stockageSortie + '/ContenusTraites/' +'catGrammSites.json'\n",
        "with open (fichierDeSortie, 'w', encoding='utf8') as  fictemp: #on met tous les contenus dans un json\n",
        "  json.dump(catGramm, fictemp)"
      ],
      "execution_count": null,
      "outputs": []
    },
    {
      "cell_type": "markdown",
      "metadata": {
        "id": "qzbSIBru18wv"
      },
      "source": [
        "# Tests des représentations\n",
        "from wordcloud import WordCloud\n",
        "import matplotlib.pyplot as plt\n",
        "from PIL import Image\n",
        "from urllib import parse\n",
        "\n",
        "\n",
        "def makeImage(text):\n",
        "    wc = WordCloud(background_color=\"white\", max_words=100,width=800, height=400)\n",
        "    wc.generate_from_frequencies(text)\n",
        "\n",
        "    plt.imshow(wc, interpolation=\"bilinear\")\n",
        "    plt.axis(\"off\")\n",
        "    plt.show()\n",
        "\n",
        "temp = [\"veuillez preservation pizzas mimosas découvrez venez jouez visitez écoutez lisez\" ]\n",
        "makeImage(catGramm['parcs'] ['ADJ'])\n",
        "fichierDeSortie = stockageSortie + '/ContenusTraites/' +'Partners.pkl'\n",
        "with open (fichierDeSortie, 'rb') as  fictemp: #on met tous les contenus dans pickle\n",
        "  dicoEtiquettagePartners = pickle.load(fictemp)\n",
        "import json\n",
        "fichierDeSortie = stockageSortie + 'OUT/JSON/' +'ListePartners.json'\n",
        "with open(fichierDeSortie, 'w', encoding='utf-8') as f:\n",
        "    json.dump(list(dicoEtiquettagePartners .keys()),f )\n",
        "[cle for cle in  dicoEtiquettagePartners.keys() if \"portcros\" in cle]\n",
        "stats\n",
        "import json\n",
        "fichierDeSortie = stockageSortie + 'OUT/JSON/' +'ContenusPartners.json'\n",
        "with open(fichierDeSortie, 'w', encoding='utf-8') as f:\n",
        "    json.dump(dicoEtiquettagePartners,f )"
      ]
    }
  ]
}